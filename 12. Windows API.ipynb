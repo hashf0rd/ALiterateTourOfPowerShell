{
 "cells": [
  {
   "cell_type": "markdown",
   "metadata": {},
   "source": [
    "# The Windows Operating System API\n",
    "\n",
    "\n",
    "# Add-Type and Win32 Functions\n",
    "\n",
    "The `Add-Type` cmdlet has already been shown briefly in the [Binary Cmdlets](./10.%20Binary%20Cmdlets.ipynb) notebook. `Add-Type` allows for on-the-fly compilation of C# code, usually for the construction of custom .NET types. _Platform Invoke_ is a built in .NET mechanism for calling unmanaged code from managed code."
   ]
  },
  {
   "cell_type": "markdown",
   "metadata": {},
   "source": [
    "<div class=\"alert alert-block alert-info\"> \n",
    "<b>Side note: Unmanaged vs Managed Code</b><br>\n",
    "Managed code is code that after compilation, is run from a special application known as a _managed runtime environment_. The runtime environment can then handle things like memory management and hardware io, making programs safer and more stable. Unmanaged code runs directly on the machine after being compiled into an executable and is sometimes called 'native' code for this reason.\n",
    "</div>\n"
   ]
  },
  {
   "cell_type": "code",
   "execution_count": null,
   "metadata": {
    "dotnet_interactive": {
     "language": "pwsh"
    },
    "polyglot_notebook": {
     "kernelName": "pwsh"
    },
    "vscode": {
     "languageId": "polyglot-notebook"
    }
   },
   "outputs": [
    {
     "name": "stdout",
     "output_type": "stream",
     "text": [
      "1\r\n"
     ]
    }
   ],
   "source": [
    "$signature = @'\n",
    "[DllImport(\"user32.dll\", SetLastError = true, CharSet= CharSet.Auto)]\n",
    "public static extern int MessageBox(\n",
    "    IntPtr hWnd, \n",
    "    String text, \n",
    "    String caption, \n",
    "    uint type);\n",
    "'@\n",
    " \n",
    " $myType = Add-Type -MemberDefinition $signature -Name MsgBox32 -Namespace SystemProgNotebook -PassThru\n",
    " $myType::MessageBox(0, \"Flipmode is the greatest\", \"System Programming with PowerShell\",0)"
   ]
  },
  {
   "cell_type": "markdown",
   "metadata": {},
   "source": [
    "# COM Objects\n",
    "While a thorough exploration of COM is outside the scope of this notebook, it is worth highlighting how easy it is for PowerShell to utilize COM. The Component Object Model (COM) is a standard that many Windows applications adhere to; it requires a program to expose a set of functions, also called an _interface_ through which other programs can interact with it. Programs in this context are referred to as _COM Objects_.\n",
    "\n",
    "TODO"
   ]
  },
  {
   "cell_type": "code",
   "execution_count": 46,
   "metadata": {
    "dotnet_interactive": {
     "language": "pwsh"
    },
    "polyglot_notebook": {
     "kernelName": "pwsh"
    },
    "vscode": {
     "languageId": "polyglot-notebook"
    }
   },
   "outputs": [
    {
     "name": "stdout",
     "output_type": "stream",
     "text": [
      "\n",
      "\u001b[32;1mPSChildName\u001b[0m\n",
      "\u001b[32;1m-----------\u001b[0m\n",
      "Shell.Application\n",
      "Shell.Autoplay\n",
      "Shell.AutoPlayDirect\n",
      "Shell.CDBurn\n",
      "Shell.Explorer\n",
      "Shell.FolderView\n",
      "Shell.HWEventHandlerShellExecute\n",
      "Shell.UIHelper\n",
      "\n"
     ]
    }
   ],
   "source": [
    "Get-ChildItem HKLM:\\Software\\Classes | Where-Object { $_.PSChildName -match '^Shell.[a-zA-Z]*$' } | Select-Object PSChildName"
   ]
  },
  {
   "cell_type": "code",
   "execution_count": 21,
   "metadata": {
    "dotnet_interactive": {
     "language": "pwsh"
    },
    "polyglot_notebook": {
     "kernelName": "pwsh"
    },
    "vscode": {
     "languageId": "polyglot-notebook"
    }
   },
   "outputs": [],
   "source": [
    "$shell = New-Object -COMObject \"Shell.Application\"\n",
    "$shell.Open(\"C:\\\")"
   ]
  }
 ],
 "metadata": {
  "kernelspec": {
   "display_name": ".NET (C#)",
   "language": "C#",
   "name": ".net-csharp"
  },
  "language_info": {
   "name": "csharp"
  },
  "polyglot_notebook": {
   "kernelInfo": {
    "defaultKernelName": "csharp",
    "items": [
     {
      "aliases": [],
      "name": "csharp"
     }
    ]
   }
  }
 },
 "nbformat": 4,
 "nbformat_minor": 2
}
