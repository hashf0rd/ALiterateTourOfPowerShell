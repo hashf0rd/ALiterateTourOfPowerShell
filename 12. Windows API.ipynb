{
 "cells": [
  {
   "cell_type": "markdown",
   "metadata": {},
   "source": []
  },
  {
   "cell_type": "code",
   "execution_count": null,
   "metadata": {
    "dotnet_interactive": {
     "language": "pwsh"
    },
    "polyglot_notebook": {
     "kernelName": "pwsh"
    },
    "vscode": {
     "languageId": "polyglot-notebook"
    }
   },
   "outputs": [],
   "source": []
  },
  {
   "cell_type": "markdown",
   "metadata": {},
   "source": [
    "# Add-Type and Win32 Functions\n",
    "\n",
    "The `Add-Type` cmdlet has already been shown briefly in the [Binary Cmdlets](./10.%20Binary%20Cmdlets.ipynb) notebook. `Add-Type` allows for on-the-fly compilation of C# code, usually for the construction of custom .NET types. _Platform Invoke_ is a built in .NET mechanism for calling unmanaged code from managed code."
   ]
  },
  {
   "cell_type": "markdown",
   "metadata": {},
   "source": [
    "<div class=\"alert alert-block alert-info\"> \n",
    "<b>Side note: Unmanaged vs Managed Code</b><br>\n",
    "Managed code is code that after compilation, is run from a special application known as a _managed runtime environment_. The runtime environment can then handle things like memory management and hardware io, making programs safer and more stable. Unmanaged code runs directly on the machine after being compiled into an executable and is sometimes called 'native' code for this reason.\n",
    "</div>\n"
   ]
  },
  {
   "cell_type": "code",
   "execution_count": null,
   "metadata": {
    "dotnet_interactive": {
     "language": "pwsh"
    },
    "polyglot_notebook": {
     "kernelName": "pwsh"
    },
    "vscode": {
     "languageId": "polyglot-notebook"
    }
   },
   "outputs": [
    {
     "name": "stdout",
     "output_type": "stream",
     "text": [
      "1\r\n"
     ]
    }
   ],
   "source": [
    "$signature = @'\n",
    "[DllImport(\"user32.dll\", SetLastError = true, CharSet= CharSet.Auto)]\n",
    "public static extern int MessageBox(\n",
    "    IntPtr hWnd, \n",
    "    String text, \n",
    "    String caption, \n",
    "    uint type);\n",
    "'@\n",
    " \n",
    " $myType = Add-Type -MemberDefinition $signature -Name MsgBox32 -Namespace SystemProgNotebook -PassThru\n",
    " $myType::MessageBox(0, \"Flipmode is the greatest\", \"System Programming with PowerShell\",0)"
   ]
  },
  {
   "cell_type": "markdown",
   "metadata": {},
   "source": [
    "# COM Objects"
   ]
  },
  {
   "cell_type": "code",
   "execution_count": 25,
   "metadata": {
    "dotnet_interactive": {
     "language": "pwsh"
    },
    "polyglot_notebook": {
     "kernelName": "pwsh"
    },
    "vscode": {
     "languageId": "polyglot-notebook"
    }
   },
   "outputs": [
    {
     "name": "stdout",
     "output_type": "stream",
     "text": [
      "DfsShell.DfsShell\n",
      "DfsShell.DfsShellAdmin\n",
      "MsRdpWebAccess.MsRdpClientShell\n",
      "MsRdpWebAccess.MsRdpClientShellExtension\n",
      "SDSHELLEXTENSION.SdShellExtension\n",
      "Shell.Application\n",
      "Shell.Autoplay\n",
      "Shell.AutoPlayDirect\n",
      "Shell.Explorer\n",
      "Shell.FolderView\n",
      "Shell.HWEventHandlerShellExecute\n",
      "Shell.UIHelper\n",
      "ShellNameSpace.ShellNameSpace\n",
      "VSFileHandler.VsShellExtHandler\n",
      "WScript.Shell\n"
     ]
    },
    {
     "ename": "Error",
     "evalue": "Command failed: SubmitCode: Get-ChildItem HKLM:\\Software\\Classes -ErrorAction  ...",
     "output_type": "error",
     "traceback": [
      "Command failed: SubmitCode: Get-ChildItem HKLM:\\Software\\Classes -ErrorAction  ..."
     ]
    }
   ],
   "source": [
    "Get-ChildItem HKLM:\\Software\\Classes -ErrorAction SilentlyContinue \n",
    "| Where-Object { $_.PSChildName -match '^\\w+\\.\\w+$' -and (Test-Path -Path \"$($_.PSPath)\\CLSID\") } \n",
    "    | Select-Object -ExpandProperty PSChildName \n",
    "    | Where-Object { $_ -match 'Shell' }"
   ]
  },
  {
   "cell_type": "code",
   "execution_count": 21,
   "metadata": {
    "dotnet_interactive": {
     "language": "pwsh"
    },
    "polyglot_notebook": {
     "kernelName": "pwsh"
    },
    "vscode": {
     "languageId": "polyglot-notebook"
    }
   },
   "outputs": [],
   "source": [
    "$shell = New-Object -COMObject \"Shell.Application\"\n",
    "$shell.Open(\"C:\\\")"
   ]
  }
 ],
 "metadata": {
  "kernelspec": {
   "display_name": ".NET (C#)",
   "language": "C#",
   "name": ".net-csharp"
  },
  "language_info": {
   "name": "csharp"
  },
  "polyglot_notebook": {
   "kernelInfo": {
    "defaultKernelName": "csharp",
    "items": [
     {
      "aliases": [],
      "name": "csharp"
     }
    ]
   }
  }
 },
 "nbformat": 4,
 "nbformat_minor": 2
}
