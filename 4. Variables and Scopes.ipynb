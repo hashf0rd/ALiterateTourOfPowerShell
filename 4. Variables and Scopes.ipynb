{
 "cells": [
  {
   "cell_type": "markdown",
   "metadata": {},
   "source": [
    "## Variables\n",
    "Variables are named locations in memory which are used to store values; values used in experssions as well as the results of expressions. All variables in PowerShell are declared and referenced with the `$` character."
   ]
  },
  {
   "cell_type": "code",
   "execution_count": 1,
   "metadata": {
    "dotnet_interactive": {
     "language": "pwsh"
    },
    "polyglot_notebook": {
     "kernelName": "pwsh"
    },
    "vscode": {
     "languageId": "polyglot-notebook"
    }
   },
   "outputs": [
    {
     "name": "stdout",
     "output_type": "stream",
     "text": [
      "This is a string variable\n",
      "12\n",
      "This is a string variable\n"
     ]
    }
   ],
   "source": [
    "$myVar = \"This is a string variable\"\n",
    "$storedVar = $myVar\n",
    "$myVar\n",
    "$myVar = 12\n",
    "$myVar\n",
    "$myVar = $storedVar\n",
    "$myVar"
   ]
  },
  {
   "cell_type": "markdown",
   "metadata": {},
   "source": [
    "There are three kinds of variable used in PowerShell; user defined, automatic, and preference.\n",
    "\n",
    "**User-Defined**: as the name implies, variables set by the user.  \n",
    "**Automatic**: variables created by the PowerShell engine to track state, importantly automatic variables cannot be changed by the user.  \n",
    "**Preference**: global user configuration, populated with default values but changeable by the user. "
   ]
  },
  {
   "cell_type": "code",
   "execution_count": 30,
   "metadata": {
    "dotnet_interactive": {
     "language": "pwsh"
    },
    "polyglot_notebook": {
     "kernelName": "pwsh"
    },
    "vscode": {
     "languageId": "polyglot-notebook"
    }
   },
   "outputs": [
    {
     "name": "stdout",
     "output_type": "stream",
     "text": [
      "myVar is a user-defined variable defined in a previous code cell: This is a string variable\n",
      "The installation directory of the current PowerShell runtime is stored in the automatic variable PSHome: C:\\Users\\alex\\.nuget\\packages\\microsoft.dotnet-interactive\\1.0.520801\\tools\\net8.0\\any\\runtimes\\win\\lib\\net8.0\n",
      "The preference variable 'MaximumHistoryCount' Determines how many commands are saved in the command history for the current session:4096\n"
     ]
    }
   ],
   "source": [
    "\"myVar is a user-defined variable defined in a previous code cell: \" + $myVar\n",
    "\"The installation directory of the current PowerShell runtime is stored in the automatic variable PSHome: \" + $PSHome\n",
    "\"The preference variable 'MaximumHistoryCount' Determines how many commands are saved in the command history for the current session:\" + $MaximumHistoryCount\n"
   ]
  },
  {
   "cell_type": "markdown",
   "metadata": {},
   "source": [
    "An important thing to note when interacting with string literals in variables is qoutes; double qoutes are expandable strings, meaning variables embedded in them will automatically expand when the expression is evaluated. Sub-expressions can even be embedded and evaluated when the overall expression is evaluated."
   ]
  },
  {
   "cell_type": "code",
   "execution_count": 31,
   "metadata": {
    "dotnet_interactive": {
     "language": "pwsh"
    },
    "polyglot_notebook": {
     "kernelName": "pwsh"
    },
    "vscode": {
     "languageId": "polyglot-notebook"
    }
   },
   "outputs": [
    {
     "name": "stdout",
     "output_type": "stream",
     "text": [
      "The value of i is 5\n",
      "i plus 5 is 10\n"
     ]
    }
   ],
   "source": [
    "$i = 5\n",
    "\"The value of i is $i\"\n",
    "\"i plus 5 is $($i + 5)\""
   ]
  },
  {
   "cell_type": "markdown",
   "metadata": {},
   "source": [
    "Single quoted strings are literal however. Single quotes and double can be combined to create strings with qoutes in."
   ]
  },
  {
   "cell_type": "code",
   "execution_count": 32,
   "metadata": {
    "dotnet_interactive": {
     "language": "pwsh"
    },
    "polyglot_notebook": {
     "kernelName": "pwsh"
    },
    "vscode": {
     "languageId": "polyglot-notebook"
    }
   },
   "outputs": [
    {
     "name": "stdout",
     "output_type": "stream",
     "text": [
      "The value of J is $j\n",
      "\"Quotes are easy\" said no one ever\n"
     ]
    }
   ],
   "source": [
    "$j = 7\n",
    "'The value of J is $j'\n",
    "'\"Quotes are easy\" said no one ever'"
   ]
  },
  {
   "cell_type": "markdown",
   "metadata": {},
   "source": [
    "PowerShell also has a multistring variable format called a here string, which is delimited with the `@` symbol."
   ]
  },
  {
   "cell_type": "code",
   "execution_count": 33,
   "metadata": {
    "dotnet_interactive": {
     "language": "pwsh"
    },
    "polyglot_notebook": {
     "kernelName": "pwsh"
    },
    "vscode": {
     "languageId": "polyglot-notebook"
    }
   },
   "outputs": [
    {
     "name": "stdout",
     "output_type": "stream",
     "text": [
      "alex\n",
      "04/20/2024 11:52:01\n"
     ]
    }
   ],
   "source": [
    "# the scope modifier : syntax is explained below\n",
    "$user = $Env:USERNAME\n",
    "$date = Get-Date\n",
    "$jsonObj = @\"\n",
    "{ \n",
    "    \"name\": \"$user\",\n",
    "    \"date\": \"$date\"\n",
    "}\n",
    "\"@ | ConvertFrom-Json\n",
    "\n",
    "$jsonObj.name\n",
    "$jsonObj.date"
   ]
  },
  {
   "cell_type": "markdown",
   "metadata": {},
   "source": [
    "## Scope\n",
    "Like many programming langauges PowerShell uses the concept of _scopes_ to restrict access to variables. In a PowerShell session there are three predefined scopes, as well as a scope associated with PSDrive namespaces. \n",
    "\n",
    "**Global**: When the PowerShell engine starts, it creates what is known as a 'runspace' - a container for everything within the current PowerShell session (inverted, a PowerShell session is the time between a runspace starting and ending). When the runspace starts, the **Global** scope container exists, and so global variables and functions such as automatic variables are contained withint the global scope.  \n",
    "**Local**: the current execution scope.  \n",
    "**Script**: the scope created when a script runs, and any commands contained in the script are run within the script scope. When the script is running, the script scope is the local scope."
   ]
  },
  {
   "cell_type": "code",
   "execution_count": 34,
   "metadata": {
    "dotnet_interactive": {
     "language": "pwsh"
    },
    "polyglot_notebook": {
     "kernelName": "pwsh"
    },
    "vscode": {
     "languageId": "polyglot-notebook"
    }
   },
   "outputs": [
    {
     "name": "stdout",
     "output_type": "stream",
     "text": [
      "Foo\n",
      "Bar\n"
     ]
    }
   ],
   "source": [
    "$w = \"Foo\"\n",
    "$w\n",
    "function localScopeExample {\n",
    "    $w = \"Bar\"\n",
    "    $w\n",
    "}\n",
    "localScopeExample"
   ]
  },
  {
   "cell_type": "markdown",
   "metadata": {},
   "source": [
    "A child scope is created whenever a script or function is called (the called scope therefore becomes the parent scope). Those child scopes can go onto to create futher child scopes, leading to a hierarchy of scopes. As is usual with scope behaviour, parent scopes can access child scopes, but child scopes cannot access parent scopes (apart from the global scope).\n",
    "\n",
    "_Scope modifiers_ as the name implies explicitly change the scope of a variable. The syntax of a scope modifier is `$scope_modifier:variable`.  \n",
    "There are several scope modifiers that can be used:\n",
    "- `global:` specifies the variable exists in the **global** scope.\n",
    "- `local:` specifies the variable exists in the **local** scope.\n",
    "- `script:` specifies the variable exists in the **script** scope - if there is an ancestor script to the one running this will be the local scope of that ancestor script, or **global** if there is no ancestor.\n",
    "- `private:` not so much a scope as a modifier that makes the variable only visible in the current scope regardless of where it is defined. "
   ]
  },
  {
   "cell_type": "code",
   "execution_count": 1,
   "metadata": {
    "dotnet_interactive": {
     "language": "pwsh"
    },
    "polyglot_notebook": {
     "kernelName": "pwsh"
    },
    "vscode": {
     "languageId": "polyglot-notebook"
    }
   },
   "outputs": [
    {
     "name": "stdout",
     "output_type": "stream",
     "text": [
      "\n",
      "\u001b[32;1mName     \u001b[0m\u001b[32;1m Value\u001b[0m\u001b[32;1m Visibility\u001b[0m\u001b[32;1m Options\u001b[0m\n",
      "\u001b[32;1m----     \u001b[0m \u001b[32;1m-----\u001b[0m \u001b[32;1m----------\u001b[0m \u001b[32;1m-------\u001b[0m\n",
      "global_y  Foo       Public    None\n",
      "private_z Boo       Public Private\n",
      "\n"
     ]
    }
   ],
   "source": [
    "function hidden {\n",
    "    $global:global_y = \"Foo\"\n",
    "}\n",
    "hidden\n",
    "$private:private_z = \"Boo\"\n",
    "Get-Variable global_y | Select-Object Name, Value, Visibility, Options\n",
    "Get-Variable private_z | Select-Object Name, Value, Visibility, Options"
   ]
  }
 ],
 "metadata": {
  "language_info": {
   "name": "python"
  }
 },
 "nbformat": 4,
 "nbformat_minor": 2
}
