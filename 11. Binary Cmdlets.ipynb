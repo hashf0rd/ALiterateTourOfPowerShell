{
 "cells": [
  {
   "cell_type": "markdown",
   "metadata": {},
   "source": [
    "## Writing a Binary Cmdlet\n",
    "As described previously, cmdlets are light weight commands that are part of the PowerShell environment. Cmdlets can be written as .NET classes in C#, or as PowerShell scripts.\n",
    "Script based cmdlets are explained in the [Functions](6.%20Functions.ipynb) notebook. This notebook describes how to write a rudimentary binary cmdlet using C#.\n",
    "\n",
    "In the PowerShell code below, a the .NET class is written that describes a new cmdlet called `Get-CodePids`. The cmdlet gets the PIDs of all running VSCode processes. The class is stored in a variable called `$source`, and then the `Add-Type` cmdlet is called to compile `$source` into a temporary executable file known in .NET as an _assembly_.\n",
    "\n",
    "The `Import-Module` cmdlet can take in an assembly and load it into the current PowerShell runtime as a _module_, making the commands contained in the assembly available for use. Calling the `Get-CodePids` cmdlet should print the aforementioned PIDs.\n",
    "\n",
    "The rest of the C# code below is explained with comments, however a full explanation is outside the scope of this notebook."
   ]
  },
  {
   "cell_type": "code",
   "execution_count": 1,
   "metadata": {
    "dotnet_interactive": {
     "language": "pwsh"
    },
    "polyglot_notebook": {
     "kernelName": "pwsh"
    },
    "vscode": {
     "languageId": "polyglot-notebook"
    }
   },
   "outputs": [
    {
     "name": "stdout",
     "output_type": "stream",
     "text": [
      "PID: 9756, Started: 5/30/2024 4:36:50 PM\n",
      "PID: 2548, Started: 5/30/2024 4:36:50 PM\n",
      "PID: 8568, Started: 5/30/2024 4:36:50 PM\n",
      "PID: 15768, Started: 5/30/2024 4:36:50 PM\n",
      "PID: 10032, Started: 5/30/2024 4:36:51 PM\n",
      "PID: 416, Started: 5/30/2024 4:36:52 PM\n",
      "PID: 16332, Started: 5/30/2024 4:36:53 PM\n",
      "PID: 10408, Started: 5/30/2024 4:36:53 PM\n",
      "PID: 14640, Started: 5/30/2024 4:36:53 PM\n",
      "PID: 3748, Started: 5/30/2024 4:36:56 PM\n"
     ]
    }
   ],
   "source": [
    "$source = @\"\n",
    "using System.Management.Automation;\n",
    "using System.Diagnostics;\n",
    "\n",
    "// a cmdlet class needs to be decorated with the Cmdlet attribute\n",
    "// the verbscommon option decides which PowerShell verd to use and the cmdlet name\n",
    "[Cmdlet(VerbsCommon.Get, \"CodePids\")]\n",
    "\n",
    "// the Cmdlet class contained in the System.Management.Automation namespace is the base class that\n",
    "// the cmdlet code we are writing inherits from\n",
    "public class GetCodePids : Cmdlet {\n",
    "\n",
    "    // this line gets all the VSCode processes and stores them in an array\n",
    "    Process[] allCode = Process.GetProcessesByName(\"code\");\n",
    "\n",
    "    // the Cmdlet base class contains methods for the Begin, Process and End blocks we \n",
    "    // have already seen in PowerShell functions - at least the ProcessRecord() method must be\n",
    "    // overridden in the new cmdlet class \n",
    "    protected override void ProcessRecord() {\n",
    "        foreach(Process p in allCode) {\n",
    "            \n",
    "            // cmdlets emit .NET objects that are passed along the pipeline to other\n",
    "            // cmdlets, this is handled by the WriteObject() method \n",
    "            WriteObject(\"PID: \" + p.Id + \", Started: \" + p.StartTime);\n",
    "\n",
    "            // note - usually cmdlets dont format output like this, and instead lets \n",
    "            // other cmdlets on the pipeline format what gets printed, but for this demonstration\n",
    "            // this cmdlet is returning a formatted string object\n",
    "        }\n",
    "    }\n",
    "}\n",
    "\"@\n",
    "\n",
    "Import-Module -Assembly (Add-Type -TypeDefinition $source -PassThru).Assembly\n",
    "Get-CodePids"
   ]
  }
 ],
 "metadata": {
  "kernelspec": {
   "display_name": ".NET (C#)",
   "language": "C#",
   "name": ".net-csharp"
  },
  "language_info": {
   "name": "python"
  },
  "polyglot_notebook": {
   "kernelInfo": {
    "defaultKernelName": "csharp",
    "items": [
     {
      "aliases": [],
      "name": "csharp"
     }
    ]
   }
  }
 },
 "nbformat": 4,
 "nbformat_minor": 2
}
