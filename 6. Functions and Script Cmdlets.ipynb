{
 "cells": [
  {
   "cell_type": "markdown",
   "metadata": {},
   "source": [
    "## Function Definitions\n",
    "Functions in PowerShell are defined with the `function` keyword, and should follow PascalCase (where each word is capitalized) and start with an approved verb:"
   ]
  },
  {
   "cell_type": "code",
   "execution_count": null,
   "metadata": {
    "dotnet_interactive": {
     "language": "pwsh"
    },
    "polyglot_notebook": {
     "kernelName": "pwsh"
    },
    "vscode": {
     "languageId": "polyglot-notebook"
    }
   },
   "outputs": [],
   "source": [
    "Get-Verb | Sort-Object -Property Verb"
   ]
  },
  {
   "cell_type": "code",
   "execution_count": null,
   "metadata": {
    "dotnet_interactive": {
     "language": "pwsh"
    },
    "polyglot_notebook": {
     "kernelName": "pwsh"
    },
    "vscode": {
     "languageId": "polyglot-notebook"
    }
   },
   "outputs": [],
   "source": [
    "# example function definition\n",
    "function Get-HomeDirs {\n",
    "    Get-ChildItem $HOME -Attribute d+!h | \n",
    "        ForEach-Object { if($_.BaseName -notmatch \"^\\.\") { $_ } }\n",
    "}\n",
    "Get-HomeDirs"
   ]
  },
  {
   "cell_type": "markdown",
   "metadata": {},
   "source": [
    "## Function Parameters\n",
    "Function parameters are defined inside of a `param` statement using the syntax of `[type]$paramterName`, like so:"
   ]
  },
  {
   "cell_type": "code",
   "execution_count": null,
   "metadata": {
    "dotnet_interactive": {
     "language": "pwsh"
    },
    "polyglot_notebook": {
     "kernelName": "pwsh"
    },
    "vscode": {
     "languageId": "polyglot-notebook"
    }
   },
   "outputs": [],
   "source": [
    "function Get-AccountInfo {\n",
    "    param(\n",
    "        [String]$user\n",
    "    )\n",
    "    # queries all user and group accounts on the system\n",
    "    Get-CimInstance -ClassName Win32_Account | Where-Object { $_.SIDType -eq 1 -And $_.Name -like \"*$user*\" } | Select-Object Caption, SID\n",
    "}\n",
    "Get-AccountInfo -user \"admin\""
   ]
  },
  {
   "cell_type": "markdown",
   "metadata": {},
   "source": [
    "As can be seen above, the parameter is added as a named parameter to the function and made available via the `-user` switch.\n",
    "\n",
    "Function parameters can be 'splatted'; combined into named splat variable and fed into a function all at once using the `@` symbol in place of the `$` when using the variable."
   ]
  },
  {
   "cell_type": "code",
   "execution_count": null,
   "metadata": {
    "dotnet_interactive": {
     "language": "pwsh"
    },
    "polyglot_notebook": {
     "kernelName": "pwsh"
    },
    "vscode": {
     "languageId": "polyglot-notebook"
    }
   },
   "outputs": [],
   "source": [
    "# the splat variable here is defined using a hashtable - note that the hashtable starts with @ symbol, but is distinct from a splat variable\n",
    "$dirSearch = @{\n",
    "    Path=$HOME\n",
    "    Attributes=\"!Hidden+Directory\"\n",
    "    Exclude=\".*\"\n",
    "}\n",
    "\n",
    "Get-ChildItem @dirSearch\n"
   ]
  },
  {
   "cell_type": "markdown",
   "metadata": {},
   "source": [
    "Function parameters can be decorated with _attributes_ to change how they are processed. An _attribute_ is similar to a type, but rather than describing an object like a type does, an attribute describes _metadata_ that can be attached to a function or piece of code and provide instruction on how that code takes processes the data it is passed.  "
   ]
  },
  {
   "cell_type": "code",
   "execution_count": null,
   "metadata": {
    "dotnet_interactive": {
     "language": "pwsh"
    },
    "polyglot_notebook": {
     "kernelName": "pwsh"
    },
    "vscode": {
     "languageId": "polyglot-notebook"
    }
   },
   "outputs": [],
   "source": [
    "function SayHello {\n",
    "    param(\n",
    "    # makes the following parameter mandatory and provide a help message\n",
    "    [Parameter(Mandatory,HelpMessage=\"Please provide a name!\")]\n",
    "    [string]$name\n",
    "    )\n",
    "    Write-Host  \"Hi $name\"\n",
    "}\n",
    "\n",
    "# enter !? in the message box that appears at the top of vscode to show the help message\n",
    "SayHello "
   ]
  },
  {
   "cell_type": "markdown",
   "metadata": {},
   "source": [
    "## Making Functions Work with the Pipeline\n",
    "\n",
    "The PowerShell pipeline does not execute functions sequentially, but in fact executes them simultanously; each function then contains code which processes the input the function receives via the pipeline.  \n",
    "This code is contained within specially named blocks within each function. These include:\n",
    "- The `begin` block, which executes _once_ before the pipeline starts to process any data. Code within the `begin` block can be used to initialize things within the function.\n",
    "- The `process` block, which executes repeatedly, almost like the ForEach cmdlet, once per incoming pipeline object.\n",
    "- Finally the `end` block, which executes once after all pipeline elements have been processed. The `end` block can be used to clean things up, like temporary files.  \n",
    "<sup>_source: https://powershell.one/powershell-internals/scriptblocks/powershell-pipeline_</sup>\n",
    "\n",
    "As mentioned above, the `process` block is where any input to the function from the pipeline ends up, and the usual `$_` character can be used to represent the input in the function body."
   ]
  },
  {
   "cell_type": "code",
   "execution_count": null,
   "metadata": {
    "dotnet_interactive": {
     "language": "pwsh"
    },
    "polyglot_notebook": {
     "kernelName": "pwsh"
    },
    "vscode": {
     "languageId": "polyglot-notebook"
    }
   },
   "outputs": [],
   "source": [
    "function demo {\n",
    "    begin {\n",
    "        \"BEGIN: runs once at the start\"\n",
    "    }\n",
    "    process {\n",
    "        \"PROCESS: \" + $_\n",
    "    }\n",
    "    end {\n",
    "        \"END: runs once at the end\"\n",
    "    }\n",
    "}\n",
    "\n",
    "1,2,3,4 | demo"
   ]
  },
  {
   "cell_type": "markdown",
   "metadata": {},
   "source": [
    "## Advanced Functions\n",
    "\n",
    "As mentioned previously there are two varieties of cmdlet in PowerShell: binary cmdlets which are compiled .NET code, and script cmdlets which use PowerShell scripts and functions. Script cmdlets are also called _advanced functions_.\n",
    "\n",
    "To turn a function into an advanced function, i.e a function that can be used as a cmdlet, the function needs to be written with `[CmdletBinding()]` attribute. This attribute provides the advanced function cmdlet with access to PowerShells common parameter set; these are parameters that are available to any cmdlet and do not have to be defined when writing the advanced function cmdlet."
   ]
  },
  {
   "cell_type": "code",
   "execution_count": 29,
   "metadata": {
    "dotnet_interactive": {
     "language": "pwsh"
    },
    "polyglot_notebook": {
     "kernelName": "pwsh"
    },
    "vscode": {
     "languageId": "polyglot-notebook"
    }
   },
   "outputs": [
    {
     "name": "stdout",
     "output_type": "stream",
     "text": [
      "\n",
      "NAME\n",
      "    MakeAdvanced\n",
      "    \n",
      "SYNTAX\n",
      "    MakeAdvanced [<CommonParameters>]\n",
      "    \n",
      "\n",
      "ALIASES\n",
      "    None\n",
      "    \n",
      "\n",
      "REMARKS\n",
      "    None\n",
      "\n",
      "\u001b[93mDEBUG: Debug Output\u001b[0m\n",
      "\u001b[93mVERBOSE: Verbose Output\u001b[0m\n",
      "\n"
     ]
    }
   ],
   "source": [
    "function MakeAdvanced {\n",
    "    [CmdletBinding()]\n",
    "    Param()\n",
    "    Write-Debug \"Debug Output\"\n",
    "    Write-Verbose \"Verbose Output\"\n",
    "}\n",
    "\n",
    "# Write-Output \"As you can see in the help text below, under the SYNTAX heading, [CommonParameters] are now accepted by this function\"\n",
    "Get-Help MakeAdvanced\n",
    "\n",
    "# The full list of common parameters is out of scope of this notebook, but an example parameter is the -Debug:$true parameter or simply -Debug\n",
    "MakeAdvanced -Debug\n",
    "\n",
    "# Or the -Verbose parameter\n",
    "MakeAdvanced -Verbose"
   ]
  },
  {
   "cell_type": "markdown",
   "metadata": {},
   "source": [
    "Advanced functions can take pipeline input by decorating a parameter with the [Parameter()] attribute and using either `ValueFromPipeline` (which performs parameter binding by value) or `ValueFromPipeLineByPropertyName` (which performs parameter binding by property)."
   ]
  },
  {
   "cell_type": "code",
   "execution_count": 21,
   "metadata": {
    "dotnet_interactive": {
     "language": "pwsh"
    },
    "polyglot_notebook": {
     "kernelName": "pwsh"
    },
    "vscode": {
     "languageId": "polyglot-notebook"
    }
   },
   "outputs": [
    {
     "name": "stdout",
     "output_type": "stream",
     "text": [
      "half of 22 is 11\n",
      "\n",
      "NAME\n",
      "    GetHalf\n",
      "    \n",
      "SYNTAX\n",
      "    GetHalf [[-number] <int>] [<CommonParameters>]\n",
      "    \n",
      "\n",
      "ALIASES\n",
      "    None\n",
      "    \n",
      "\n",
      "REMARKS\n",
      "    None\n",
      "\n",
      "\n"
     ]
    }
   ],
   "source": [
    "function GetHalf {\n",
    "    Param (\n",
    "    # this attributes binds the below parameter to a property of the input object with the same name\n",
    "    [Parameter(ValueFromPipelineByPropertyName)]\n",
    "    [int] $number\n",
    "    )\n",
    "    $result = ($number / 2)\n",
    "    Write-Output \"half of $number is $result\"\n",
    "}\n",
    "\n",
    "[PSCustomObject]@{ number = 22 }  | GetHalf\n",
    "\n",
    "# both [CmdletBinding()] and [Parameter()] attributes register the function as an advanced function, as can be seen in the help for this function\n",
    "Get-Help GetHalf"
   ]
  }
 ],
 "metadata": {
  "kernelspec": {
   "display_name": ".NET (C#)",
   "language": "C#",
   "name": ".net-csharp"
  },
  "language_info": {
   "name": "python"
  },
  "polyglot_notebook": {
   "kernelInfo": {
    "defaultKernelName": "csharp",
    "items": [
     {
      "aliases": [],
      "name": "csharp"
     }
    ]
   }
  }
 },
 "nbformat": 4,
 "nbformat_minor": 2
}
