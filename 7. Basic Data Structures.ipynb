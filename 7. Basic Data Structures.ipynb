{
 "cells": [
  {
   "cell_type": "markdown",
   "metadata": {},
   "source": [
    "## Arrays"
   ]
  },
  {
   "cell_type": "markdown",
   "metadata": {},
   "source": [
    "Arrays are a fundemental data structure in most programming languages and serve as a way to collect other variables or objects, which can then be iterated through or 'indexed' from their location within the array."
   ]
  },
  {
   "cell_type": "code",
   "execution_count": 1,
   "metadata": {
    "dotnet_interactive": {
     "language": "pwsh"
    },
    "polyglot_notebook": {
     "kernelName": "pwsh"
    },
    "vscode": {
     "languageId": "polyglot-notebook"
    }
   },
   "outputs": [
    {
     "name": "stdout",
     "output_type": "stream",
     "text": [
      "Here are the contents of simpleArray:\n",
      "2\n",
      "3\n",
      "4\n",
      "5\n",
      "6\n",
      "Here are the just the first and last items:\n",
      "2\n",
      "6\n"
     ]
    }
   ],
   "source": [
    "$simpleArray = 2,3,4,5,6\n",
    "Write-Output \"Here are the contents of simpleArray:\"\n",
    "$simpleArray\n",
    "Write-Output \"Here are the just the first and last items:\"\n",
    "$simpleArray[0] # array indexes start counting from 0\n",
    "$simpleArray[-1] # negative indexes are allowed"
   ]
  },
  {
   "cell_type": "markdown",
   "metadata": {},
   "source": []
  },
  {
   "cell_type": "code",
   "execution_count": 2,
   "metadata": {
    "dotnet_interactive": {
     "language": "pwsh"
    },
    "polyglot_notebook": {
     "kernelName": "pwsh"
    },
    "vscode": {
     "languageId": "polyglot-notebook"
    }
   },
   "outputs": [
    {
     "name": "stdout",
     "output_type": "stream",
     "text": [
      "Empty array size: 0\n",
      "\u001b[31;1mMethodInvocationException: \u001b[0m\n",
      "\u001b[31;1m\u001b[36;1mLine |\u001b[0m\n",
      "\u001b[31;1m\u001b[36;1m\u001b[36;1m   6 | \u001b[0m \u001b[36;1m$myArray.Add(\"new item\")\u001b[0m\n",
      "\u001b[31;1m\u001b[36;1m\u001b[36;1m\u001b[0m\u001b[36;1m\u001b[0m\u001b[36;1m     | \u001b[31;1m ~~~~~~~~~~~~~~~~~~~~~~~~\u001b[0m\n",
      "\u001b[31;1m\u001b[36;1m\u001b[36;1m\u001b[0m\u001b[36;1m\u001b[0m\u001b[36;1m\u001b[31;1m\u001b[31;1m\u001b[36;1m     | \u001b[31;1mException calling \"Add\" with \"1\" argument(s): \"Collection was of a fixed size.\"\u001b[0m\n",
      "New array contents: new item 4real tho\n"
     ]
    },
    {
     "ename": "Error",
     "evalue": "Command failed: SubmitCode: $myArray = @() ...",
     "output_type": "error",
     "traceback": [
      "Command failed: SubmitCode: $myArray = @() ..."
     ]
    }
   ],
   "source": [
    "$myArray = @()\n",
    "$c = $myArray.count\n",
    "Write-Output \"Empty array size: $c\"\n",
    "\n",
    "# fails because the array was defined with a fixed size\n",
    "$myArray.Add(\"new item\")\n",
    "\n",
    "# creates an entirely new array with the item added\n",
    "$myArray += \"new item 4real tho\"\n",
    "Write-Output \"New array contents: $myArray\""
   ]
  },
  {
   "cell_type": "markdown",
   "metadata": {},
   "source": [
    "The `@()` syntax is known as the array sub-expression operator; the operator creates an array container based on the statements inside it."
   ]
  },
  {
   "cell_type": "code",
   "execution_count": 3,
   "metadata": {
    "dotnet_interactive": {
     "language": "pwsh"
    },
    "polyglot_notebook": {
     "kernelName": "pwsh"
    },
    "vscode": {
     "languageId": "polyglot-notebook"
    }
   },
   "outputs": [
    {
     "name": "stdout",
     "output_type": "stream",
     "text": [
      "Number of VSCode processes: 10\r\n"
     ]
    }
   ],
   "source": [
    "$processArray = @(Get-Process)\n",
    "$codeCount = ($processArray.name -like \"code\").count\n",
    "\"Number of VSCode processes: $codeCount\""
   ]
  },
  {
   "cell_type": "markdown",
   "metadata": {},
   "source": [
    "Arrays can be iterated over using the usual ForEach cmdlet, or a for loop, but PowerShell also provides a in-built convenience enumerator that will loop over the array automatically 'behind the scenes'. "
   ]
  },
  {
   "cell_type": "code",
   "execution_count": 4,
   "metadata": {
    "dotnet_interactive": {
     "language": "pwsh"
    },
    "polyglot_notebook": {
     "kernelName": "pwsh"
    },
    "vscode": {
     "languageId": "polyglot-notebook"
    }
   },
   "outputs": [
    {
     "name": "stdout",
     "output_type": "stream",
     "text": [
      "Enumerating properites in a loop:\n",
      "red\n",
      "green\n",
      "blue\n",
      "Or via PowerShells built-in array enumerator:\n",
      "red\n",
      "green\n",
      "blue\n"
     ]
    }
   ],
   "source": [
    "$paintPalette = @(\n",
    "    [pscustomobject]@{color='red';}\n",
    "    [pscustomobject]@{color='green';}\n",
    "    [pscustomobject]@{color='blue';}\n",
    ")\n",
    "\n",
    "Write-Output \"Enumerating properites in a loop:\"\n",
    "$paintPalette | ForEach { $_.color }\n",
    "\n",
    "Write-Output \"Or via PowerShells built-in array enumerator:\"\n",
    "$paintPalette.color"
   ]
  },
  {
   "cell_type": "markdown",
   "metadata": {},
   "source": [
    "## Hashtables\n",
    "We have already seen hashtables in previous notebooks as a way of splatting arguments to a function, or creating a custom objects. A hashstable is similar to an array in that it is a collection of value types (int, char etc) or objects. However where an array is an ordered list, a hashtable is a key = value store.  \n",
    "\n",
    "Notice the difference in syntax when declaring a hashtable: `@{}` compared to an array: `@()`."
   ]
  },
  {
   "cell_type": "code",
   "execution_count": 5,
   "metadata": {
    "dotnet_interactive": {
     "language": "pwsh"
    },
    "polyglot_notebook": {
     "kernelName": "pwsh"
    },
    "vscode": {
     "languageId": "polyglot-notebook"
    }
   },
   "outputs": [
    {
     "name": "stdout",
     "output_type": "stream",
     "text": [
      "red\n",
      "blue\n",
      "green\n"
     ]
    }
   ],
   "source": [
    "$paintPalette = @{\n",
    "    color1 = \"red\" \n",
    "    color2 = \"blue\" \n",
    "    color3 = \"green\" \n",
    "    }\n",
    "$paintPalette['color1']\n",
    "$paintPalette['color2', 'color3'] # hashtables can also be accessed with an array of keys"
   ]
  },
  {
   "cell_type": "markdown",
   "metadata": {},
   "source": [
    "Enumerating a hashtable works slightly differently than arrays; passing a hashtable on the pipeline passes a singular object, so `.key` and `.value` properties should be used."
   ]
  },
  {
   "cell_type": "code",
   "execution_count": 14,
   "metadata": {
    "dotnet_interactive": {
     "language": "pwsh"
    },
    "polyglot_notebook": {
     "kernelName": "pwsh"
    },
    "vscode": {
     "languageId": "polyglot-notebook"
    }
   },
   "outputs": [
    {
     "name": "stdout",
     "output_type": "stream",
     "text": [
      "Ricky\n",
      "Bubbles\n",
      "Julian\n",
      "serv2 = Ricky\n",
      "serv1 = Bubbles\n",
      "serv3 = Julian\n"
     ]
    }
   ],
   "source": [
    "$data = @{\n",
    "    serv1 = \"Bubbles\"\n",
    "    serv2 = \"Ricky\"\n",
    "    serv3 = \"Julian\"\n",
    "}\n",
    "\n",
    "$data.keys | ForEach { $data[$_]}\n",
    "\n",
    "# hashtables also have a built-in enumerator method called GetEnumerator()  \n",
    "$data.GetEnumerator() | ForEach { $_.key + \" = \" + $_.value}"
   ]
  },
  {
   "cell_type": "markdown",
   "metadata": {},
   "source": [
    "Items in a hashtable can also be accessed as properties of the hashtable object."
   ]
  },
  {
   "cell_type": "code",
   "execution_count": 8,
   "metadata": {
    "dotnet_interactive": {
     "language": "pwsh"
    },
    "polyglot_notebook": {
     "kernelName": "pwsh"
    },
    "vscode": {
     "languageId": "polyglot-notebook"
    }
   },
   "outputs": [
    {
     "name": "stdout",
     "output_type": "stream",
     "text": [
      "Serv1 = Bubbles\r\n"
     ]
    }
   ],
   "source": [
    "$data = @{\n",
    "    serv1 = \"Bubbles\"\n",
    "    serv2 = \"Ricky\"\n",
    "    serv3 = \"Julian\"\n",
    "}\n",
    "\n",
    "\"Serv1 = $($data.serv1)\""
   ]
  },
  {
   "cell_type": "markdown",
   "metadata": {},
   "source": [
    "Hashtables can also be used to supply custom expressions for certain cmdlets such as `Select-Object` and `Format-Table`. These expressions can format or operate on data inline before displaying it, creating custom properties for objects on the pipeline. The hashtable should contain a `name=` and `expression=` section to denote the header and the expression itself respectively."
   ]
  },
  {
   "cell_type": "code",
   "execution_count": 3,
   "metadata": {
    "dotnet_interactive": {
     "language": "pwsh"
    },
    "polyglot_notebook": {
     "kernelName": "pwsh"
    },
    "vscode": {
     "languageId": "polyglot-notebook"
    }
   },
   "outputs": [
    {
     "name": "stdout",
     "output_type": "stream",
     "text": [
      "\n",
      "\u001b[32;1mNumber\u001b[0m\u001b[32;1m Squared\u001b[0m\n",
      "\u001b[32;1m------\u001b[0m \u001b[32;1m-------\u001b[0m\n",
      "     1       1\n",
      "     2       4\n",
      "     3       9\n",
      "     4      16\n",
      "     5      25\n",
      "     6      36\n",
      "\n"
     ]
    }
   ],
   "source": [
    "1,2,3,4,5,6 | Select-Object @{name=\"Number\"; expression={ $_ }}, @{name=\"Squared\"; expression={ $_ * $_ }}"
   ]
  }
 ],
 "metadata": {
  "kernelspec": {
   "display_name": ".NET (C#)",
   "language": "C#",
   "name": ".net-csharp"
  },
  "language_info": {
   "name": "python"
  },
  "polyglot_notebook": {
   "kernelInfo": {
    "defaultKernelName": "csharp",
    "items": [
     {
      "aliases": [],
      "name": "csharp"
     }
    ]
   }
  }
 },
 "nbformat": 4,
 "nbformat_minor": 2
}
