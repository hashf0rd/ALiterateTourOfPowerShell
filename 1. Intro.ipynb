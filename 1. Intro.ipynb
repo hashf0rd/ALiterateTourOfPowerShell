{
 "cells": [
  {
   "cell_type": "markdown",
   "metadata": {},
   "source": [
    "## Introduction\n",
    "\n",
    "PowerShell is a command shell, meaning you can open a 'shell' (a historical term for any program that allows human interaction with the OS) and send instructions to, or retrieve information from, the operating system in the form of PowerShell commands. It is also a scripting language, meaning these commands can be written into files and ran, encapsulated together as a rudiementary program (although, beyond basic scripts PowerShell is in fact a full programming language). \n",
    "\n",
    "An important conceptual difference between PowerShell and older unix-style command shells, which worked solely on text streams, is that PowerShell is _object_-first; the input and output of every command is an **object**.\n",
    "\n",
    "Like objects in object-orientated programming, PowerShells objects have _members_, which are the data stored in the object and the functionality that can be used on the object. PowerShell extends this by providing the means to pass objects to commands. \n",
    "\n",
    "The below command `Get-Process` retrieves information about the process named 'code' (vscode) and constructs a PowerShell style object with that information. Passing it via the _pipeline_ (the '|' operator) to another command, `Get-Member`, it is possible to see the various member functions that can be used on this object, such as to kill the process, as well as the data members that store information about the process, such as the number of threads."
   ]
  },
  {
   "cell_type": "code",
   "execution_count": 1,
   "metadata": {
    "dotnet_interactive": {
     "language": "pwsh"
    },
    "polyglot_notebook": {
     "kernelName": "pwsh"
    }
   },
   "outputs": [
    {
     "name": "stdout",
     "output_type": "stream",
     "text": [
      "\n",
      "   TypeName: System.Diagnostics.Process\n",
      "\n",
      "\u001b[32;1mName   \u001b[0m\u001b[32;1m MemberType\u001b[0m\u001b[32;1m Definition\u001b[0m\n",
      "\u001b[32;1m----   \u001b[0m \u001b[32;1m----------\u001b[0m \u001b[32;1m----------\u001b[0m\n",
      "Kill    Method     void Kill(), void Kill(bool entireProcessTree)\n",
      "Threads Property   System.Diagnostics.ProcessThreadCollection Threads {get;}\n",
      "\n"
     ]
    }
   ],
   "source": [
    "Get-Process code | Select-Object -First 1 | Get-Member Kill, Threads "
   ]
  },
  {
   "cell_type": "markdown",
   "metadata": {},
   "source": [
    "## Commands\n",
    "PowerShell commands can be either native binaries, such as _whoami.exe_ or _net.exe_, PowerShell _cmdlets_, which are PowerShell commands written in .NET (or sometimes in PowerShell itself), as well as PowerShell _scripts_, _functions_, or _modules_ (which are collections of any of the above that can be distrubted and imported as needed).\n",
    "\n",
    "Cmdlets are a powerful feature of PowerShell, as it allows for commands to be written in a common language and against a common runtime."
   ]
  },
  {
   "cell_type": "code",
   "execution_count": 2,
   "metadata": {
    "dotnet_interactive": {
     "language": "pwsh"
    },
    "polyglot_notebook": {
     "kernelName": "pwsh"
    }
   },
   "outputs": [
    {
     "name": "stdout",
     "output_type": "stream",
     "text": [
      "\n",
      "\u001b[32;1mCommandType    \u001b[0m\u001b[32;1m Name                                              \u001b[0m\u001b[32;1m Version   \u001b[0m\u001b[32;1m Source\u001b[0m\n",
      "\u001b[32;1m-----------    \u001b[0m \u001b[32;1m----                                              \u001b[0m \u001b[32;1m-------   \u001b[0m \u001b[32;1m------\u001b[0m\n",
      "Cmdlet          Get-DAPolicyChange                                 2.0.0.0    NetSecurity\n",
      "Cmdlet          Get-Date                                           7.0.0.0    Microsoft.PowerShell…\n",
      "Cmdlet          Get-DeliveryOptimizationLog                        1.0.3.0    DeliveryOptimization\n",
      "Cmdlet          Get-DeliveryOptimizationLogAnalysis                1.0.3.0    DeliveryOptimization\n",
      "\n"
     ]
    }
   ],
   "source": [
    "Get-Command -Type Cmdlet Get-D*"
   ]
  },
  {
   "cell_type": "markdown",
   "metadata": {},
   "source": [
    "## Nouns and Verbs\n",
    "PowerShell commands follow a verb-noun structure, such as `Get-Date` above. As in the english language, the verb is the action that the command will perform, and the noun is the object the action will be performed on. The `Get-Verb` command below will return information on every kind of verb PowerShell knows about, but for brevity only three are shown here."
   ]
  },
  {
   "cell_type": "code",
   "execution_count": 3,
   "metadata": {
    "dotnet_interactive": {
     "language": "pwsh"
    },
    "polyglot_notebook": {
     "kernelName": "pwsh"
    }
   },
   "outputs": [
    {
     "name": "stdout",
     "output_type": "stream",
     "text": [
      "\n",
      "\u001b[32;1mVerb\u001b[0m\u001b[32;1m AliasPrefix\u001b[0m\u001b[32;1m Group \u001b[0m\u001b[32;1m Description\u001b[0m\n",
      "\u001b[32;1m----\u001b[0m \u001b[32;1m-----------\u001b[0m \u001b[32;1m----- \u001b[0m \u001b[32;1m-----------\u001b[0m\n",
      "Add  a           Common Adds a resource to a container, or attaches an item to another item\n",
      "Get  g           Common Specifies an action that retrieves a resource\n",
      "Set  s           Common Replaces data on an existing resource or creates a resource that contains …\n",
      "\n"
     ]
    }
   ],
   "source": [
    "Get-Verb Get, Set, Add"
   ]
  },
  {
   "cell_type": "markdown",
   "metadata": {},
   "source": [
    "## Drives\n",
    "PowerShell uses the concept of _drives_ to represent the different parts of the operating system it can interact with, from a filesystem drive (inlcuding network drives), to the registry, to more abstract drives such as environmental variables. Each kind of drive is governed by a _provider_, which is a software layer that provides the means to interact with that particular operating system component."
   ]
  },
  {
   "cell_type": "code",
   "execution_count": 4,
   "metadata": {
    "dotnet_interactive": {
     "language": "pwsh"
    },
    "polyglot_notebook": {
     "kernelName": "pwsh"
    }
   },
   "outputs": [
    {
     "name": "stdout",
     "output_type": "stream",
     "text": [
      "\n",
      "\u001b[32;1mName      \u001b[0m \u001b[32;1;3m    Used (GB)\u001b[0m \u001b[32;1;3m    Free (GB)\u001b[0m\u001b[32;1m Provider     \u001b[0m\u001b[32;1m Root                               \u001b[0m\u001b[32;1m CurrentLoc\u001b[0m\n",
      "\u001b[32;1m          \u001b[0m \u001b[32;1;3m             \u001b[0m \u001b[32;1;3m             \u001b[0m\u001b[32;1m              \u001b[0m\u001b[32;1m                                    \u001b[0m\u001b[32;1m      ation\u001b[0m\n",
      "\u001b[32;1m----      \u001b[0m \u001b[32;1m    ---------\u001b[0m \u001b[32;1m    ---------\u001b[0m \u001b[32;1m--------     \u001b[0m \u001b[32;1m----                               \u001b[0m \u001b[32;1m----------\u001b[0m\n",
      "C                 142.46         95.24 FileSystem    C:\\                                 …owerShell\n",
      "Env                                    Environment                                                 \n",
      "HKCU                                   Registry      HKEY_CURRENT_USER                             \n",
      "HKLM                                   Registry      HKEY_LOCAL_MACHINE                            \n",
      "Temp              142.46         95.24 FileSystem    C:\\Users\\alex\\AppData\\Local\\Temp\\             \n",
      "\n"
     ]
    }
   ],
   "source": [
    "Get-PSDrive -PSProvider FileSystem, Registry, Environment"
   ]
  },
  {
   "cell_type": "markdown",
   "metadata": {},
   "source": [
    "## Working Location\n",
    "Like other command shells, PowerShell uses the notion of the _working location_; usually this will be the current folder. However it is possible to be working from a location in a non-filesystem drive as well."
   ]
  },
  {
   "cell_type": "code",
   "execution_count": 5,
   "metadata": {
    "dotnet_interactive": {
     "language": "pwsh"
    },
    "polyglot_notebook": {
     "kernelName": "pwsh"
    }
   },
   "outputs": [
    {
     "name": "stdout",
     "output_type": "stream",
     "text": [
      "\n",
      "\u001b[32;1mPath\u001b[0m\n",
      "\u001b[32;1m----\u001b[0m\n",
      "C:\\Users\\alex\\Projects\\LearningPowerShell\n",
      "\n"
     ]
    }
   ],
   "source": [
    "Get-Location"
   ]
  },
  {
   "cell_type": "code",
   "execution_count": 6,
   "metadata": {
    "dotnet_interactive": {
     "language": "pwsh"
    },
    "polyglot_notebook": {
     "kernelName": "pwsh"
    }
   },
   "outputs": [
    {
     "name": "stdout",
     "output_type": "stream",
     "text": [
      "\n",
      "\u001b[32;1mPath\u001b[0m\n",
      "\u001b[32;1m----\u001b[0m\n",
      "HKLM:\\SOFTWARE\n",
      "\n"
     ]
    }
   ],
   "source": [
    "Set-Location -Path HKLM:\\SOFTWARE -PassThru\n"
   ]
  },
  {
   "cell_type": "markdown",
   "metadata": {},
   "source": [
    "If the above cell containing the 'Set-Location' cmdlet was ran, the below 'Get-Location' invocation should return the SOFTWARE registry key."
   ]
  },
  {
   "cell_type": "code",
   "execution_count": 7,
   "metadata": {
    "dotnet_interactive": {
     "language": "pwsh"
    },
    "polyglot_notebook": {
     "kernelName": "pwsh"
    }
   },
   "outputs": [
    {
     "name": "stdout",
     "output_type": "stream",
     "text": [
      "\n",
      "\u001b[32;1mPath\u001b[0m\n",
      "\u001b[32;1m----\u001b[0m\n",
      "HKLM:\\SOFTWARE\n",
      "\n"
     ]
    }
   ],
   "source": [
    "Get-Location"
   ]
  },
  {
   "cell_type": "markdown",
   "metadata": {},
   "source": [
    "## Items\n",
    "Items are objects within a specific PS drive. For example, items in a filesystem drive are files, while items in a registry drive are registry keys."
   ]
  },
  {
   "cell_type": "code",
   "execution_count": 8,
   "metadata": {
    "dotnet_interactive": {
     "language": "pwsh"
    },
    "polyglot_notebook": {
     "kernelName": "pwsh"
    }
   },
   "outputs": [
    {
     "name": "stdout",
     "output_type": "stream",
     "text": [
      "\n",
      "\u001b[32;1mName\u001b[0m\n",
      "\u001b[32;1m----\u001b[0m\n",
      "HKEY_LOCAL_MACHINE\\SOFTWARE\\7-Zip\n",
      "HKEY_LOCAL_MACHINE\\SOFTWARE\\Adobe\n",
      "HKEY_LOCAL_MACHINE\\SOFTWARE\\Classes\n",
      "HKEY_LOCAL_MACHINE\\SOFTWARE\\Clients\n",
      "HKEY_LOCAL_MACHINE\\SOFTWARE\\CVSM\n",
      "HKEY_LOCAL_MACHINE\\SOFTWARE\\DefaultUserEnvironment\n",
      "HKEY_LOCAL_MACHINE\\SOFTWARE\\dotnet\n",
      "HKEY_LOCAL_MACHINE\\SOFTWARE\\Google\n",
      "HKEY_LOCAL_MACHINE\\SOFTWARE\\Intel\n",
      "HKEY_LOCAL_MACHINE\\SOFTWARE\\Khronos\n",
      "HKEY_LOCAL_MACHINE\\SOFTWARE\\Microsoft\n",
      "HKEY_LOCAL_MACHINE\\SOFTWARE\\Mozilla\n",
      "HKEY_LOCAL_MACHINE\\SOFTWARE\\mozilla.org\n",
      "HKEY_LOCAL_MACHINE\\SOFTWARE\\ODBC\n",
      "HKEY_LOCAL_MACHINE\\SOFTWARE\\OEM\n",
      "HKEY_LOCAL_MACHINE\\SOFTWARE\\OpenSSH\n",
      "HKEY_LOCAL_MACHINE\\SOFTWARE\\Oracle\n",
      "HKEY_LOCAL_MACHINE\\SOFTWARE\\Partner\n",
      "HKEY_LOCAL_MACHINE\\SOFTWARE\\Policies\n",
      "HKEY_LOCAL_MACHINE\\SOFTWARE\\RegisteredApplications\n",
      "HKEY_LOCAL_MACHINE\\SOFTWARE\\Setup\n",
      "HKEY_LOCAL_MACHINE\\SOFTWARE\\WOW6432Node\n",
      "\n"
     ]
    }
   ],
   "source": [
    "Get-Item * | Select-Object -Property Name"
   ]
  },
  {
   "cell_type": "markdown",
   "metadata": {},
   "source": [
    "## Streams and Redirection\n",
    "'Streams' in PowerShell are output channels for different kinds of messages, such as errors or debug information, or console output.  \n",
    "For example, the most commonly used stream is the **Success** stream, which is the stream which passes objects along the pipeline, and is also connected to the **stdout** of terminal applications for displaying text data to a terminal. "
   ]
  },
  {
   "cell_type": "code",
   "execution_count": 22,
   "metadata": {
    "dotnet_interactive": {
     "language": "pwsh"
    },
    "polyglot_notebook": {
     "kernelName": "pwsh"
    }
   },
   "outputs": [
    {
     "name": "stdout",
     "output_type": "stream",
     "text": [
      "The Write-Output cmdlet writes to the Success stream, which is the stream that handles output from the successful execution of commands\r\n"
     ]
    }
   ],
   "source": [
    "$s = \"The Write-Output cmdlet writes to the Success stream, which is the stream that handles output from the successful execution of commands\"\n",
    "Write-Output $s"
   ]
  },
  {
   "cell_type": "markdown",
   "metadata": {},
   "source": [
    "Streams are identified by number, and using the stream identifiers and the redirect operator `>` (similar to bash on linux), it is possible to re-route streams, outputting errors to the success stream for example, or all streams to a file."
   ]
  },
  {
   "cell_type": "code",
   "execution_count": 41,
   "metadata": {
    "dotnet_interactive": {
     "language": "pwsh"
    },
    "polyglot_notebook": {
     "kernelName": "pwsh"
    }
   },
   "outputs": [
    {
     "name": "stdout",
     "output_type": "stream",
     "text": [
      "Success: 1\n",
      "\u001b[31;1mWrite-Error: \u001b[31;1m2\u001b[0m\n",
      "\u001b[93mWARNING: 3\u001b[0m\n",
      "\u001b[93mVERBOSE: 4\u001b[0m\n"
     ]
    },
    {
     "ename": "Error",
     "evalue": "Command failed: SubmitCode: Write-Output \"Success: 1\" ...",
     "output_type": "error",
     "traceback": [
      "Command failed: SubmitCode: Write-Output \"Success: 1\" ..."
     ]
    }
   ],
   "source": [
    "Write-Output \"Success: 1\"\n",
    "Write-Error \"2\" # this will also generate an error message of its own\n",
    "Write-Warning \"3\"\n",
    "Write-Verbose -Verbose \"4\"\n"
   ]
  }
 ],
 "metadata": {
  "kernelspec": {
   "display_name": ".NET (PowerShell)",
   "language": "PowerShell",
   "name": ".net-pwsh"
  },
  "language_info": {
   "name": "polyglot-notebook"
  },
  "polyglot_notebook": {
   "kernelInfo": {
    "defaultKernelName": "pwsh",
    "items": [
     {
      "aliases": [],
      "languageName": "pwsh",
      "name": "pwsh"
     }
    ]
   }
  }
 },
 "nbformat": 4,
 "nbformat_minor": 2
}
