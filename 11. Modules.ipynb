{
 "cells": [
  {
   "cell_type": "markdown",
   "metadata": {},
   "source": [
    "# Modules and Module Manifests\n",
    "PowerShell modules are collections of functionality that can be exported and imported as needed. Modules allow for code encapsulation, \n",
    "\n",
    "An import component of a PowerShell module is the _manifest_, which is file with the `.psd1` extension that is used to describe the contents of the module, its requirements and dependencies, as well as define exactly the functionality that the module exports. Manifests are an optional, but powerful feature of modules.\n",
    "\n",
    "# Types of Module\n",
    "There are three types of PowerShell module:\n",
    "- **Script Modules:** A script module is a PowerShell script file with the extension `.psm1`. This extension enables the use of module cmdlets (such as `Import-Module` on the file. Script modules must be stored in a directory with the same name as the `.psm1` script itself.\n",
    "- **Binary Modules:** A binary module is a DLL containing PowerShell functionality written in a managed language such as C#. Even a simple .NET cmdlet assembly is treated as a binary module with no additional work, however the cmdlet assembly can be additional packaged up with other resources and a manifest file in order to distribute larger or more complex projects. An example of how to write a cmdlet assembly can be found in the [Binary Cmdlets](./10.%20Binary%20Cmdlets.ipynb) notebook.\n",
    "- **Manifest Modules:** A manifest module is a module that uses a manifest file to describe all of its components, but doesn't contain any sort of core assembly or script. A manifest module as a convenient way to package up resources that other modules will use, such as nested modules, assemblies, and types.\n",
    "\n",
    "The `Get-Module` cmdlet below retrieves all the modules loaded into the current session."
   ]
  },
  {
   "cell_type": "code",
   "execution_count": 5,
   "metadata": {
    "dotnet_interactive": {
     "language": "pwsh"
    },
    "polyglot_notebook": {
     "kernelName": "pwsh"
    },
    "vscode": {
     "languageId": "polyglot-notebook"
    }
   },
   "outputs": [
    {
     "name": "stdout",
     "output_type": "stream",
     "text": [
      "\n",
      "\u001b[32;1mModuleType\u001b[0m\u001b[32;1m Version   \u001b[0m \u001b[32;1;3mPreRelease\u001b[0m\u001b[32;1m Name                               \u001b[0m\u001b[32;1m ExportedCommands\u001b[0m\n",
      "\u001b[32;1m----------\u001b[0m \u001b[32;1m-------   \u001b[0m \u001b[32;1m----------\u001b[0m \u001b[32;1m----                               \u001b[0m \u001b[32;1m----------------\u001b[0m\n",
      "Manifest   7.0.0.0               Microsoft.PowerShell.Management     {Add-Content, Clear-Content, …\n",
      "Manifest   7.0.0.0               Microsoft.PowerShell.Utility        {Add-Member, Add-Type, Clear-…\n",
      "\n"
     ]
    }
   ],
   "source": [
    "Get-Module"
   ]
  },
  {
   "cell_type": "markdown",
   "metadata": {},
   "source": [
    "talk about creating script module and exporting from it here"
   ]
  },
  {
   "cell_type": "code",
   "execution_count": 5,
   "metadata": {
    "dotnet_interactive": {
     "language": "pwsh"
    },
    "polyglot_notebook": {
     "kernelName": "pwsh"
    },
    "vscode": {
     "languageId": "polyglot-notebook"
    }
   },
   "outputs": [
    {
     "name": "stdout",
     "output_type": "stream",
     "text": [
      "\n",
      "    Directory: C:\\Users\\alex\\Projects\\ALiterateTourOfPowerShell\n",
      "\n",
      "\u001b[32;1mMode   \u001b[0m\u001b[32;1m              LastWriteTime\u001b[0m\u001b[32;1m         Length\u001b[0m\u001b[32;1m Name\u001b[0m\n",
      "\u001b[32;1m----   \u001b[0m \u001b[32;1m             -------------\u001b[0m \u001b[32;1m        ------\u001b[0m \u001b[32;1m----\u001b[0m\n",
      "-a---           6/11/2024 10:35 AM            195 \u001b[33;1mexampleScriptModule.psm1\u001b[0m\n",
      "Module isnt loaded yet!\n",
      "\n",
      "\u001b[32;1mName              : \u001b[0mCimCmdlets\n",
      "\u001b[32;1mPath              : \u001b[0mC:\\Users\\alex\\.nuget\\packages\\microsoft.dotnet-interactive\\1.0.522904\\tools\\net\n",
      "                    8.0\\any\\runtimes\\win\\lib\\net8.0\\Microsoft.Management.Infrastructure.CimCmdlets.\n",
      "                    dll\n",
      "\u001b[32;1mDescription       : \u001b[0m\n",
      "\u001b[32;1mGuid              : \u001b[0mfb6cc51d-c096-4b38-b78d-0fed6277096a\n",
      "\u001b[32;1mVersion           : \u001b[0m7.0.0.0\n",
      "\u001b[32;1mModuleBase        : \u001b[0mC:\\users\\alex\\.nuget\\packages\\microsoft.dotnet-interactive\\1.0.522904\\tools\\net\n",
      "                    8.0\\any\\runtimes\\win\\lib\\net8.0\\Modules\\CimCmdlets\n",
      "\u001b[32;1mModuleType        : \u001b[0mBinary\n",
      "\u001b[32;1mPrivateData       : \u001b[0m\n",
      "\u001b[32;1mAccessMode        : \u001b[0mReadWrite\n",
      "\u001b[32;1mExportedAliases   : \u001b[0m{[gcai, gcai], [gcim, gcim], [gcls, gcls], [gcms, gcms]…}\n",
      "\u001b[32;1mExportedCmdlets   : \u001b[0m{[Get-CimAssociatedInstance, Get-CimAssociatedInstance], [Get-CimClass, \n",
      "                    Get-CimClass], [Get-CimInstance, Get-CimInstance], [Get-CimSession, \n",
      "                    Get-CimSession]…}\n",
      "\u001b[32;1mExportedFunctions : \u001b[0m{}\n",
      "\u001b[32;1mExportedVariables : \u001b[0m{}\n",
      "\u001b[32;1mNestedModules     : \u001b[0m{}\n",
      "\n",
      "\n",
      "\u001b[32;1mName              : \u001b[0mexampleScriptModule\n",
      "\u001b[32;1mPath              : \u001b[0mC:\\Users\\alex\\Projects\\ALiterateTourOfPowerShell\\exampleScriptModule.psm1\n",
      "\u001b[32;1mDescription       : \u001b[0m\n",
      "\u001b[32;1mGuid              : \u001b[0m00000000-0000-0000-0000-000000000000\n",
      "\u001b[32;1mVersion           : \u001b[0m0.0\n",
      "\u001b[32;1mModuleBase        : \u001b[0mC:\\Users\\alex\\Projects\\ALiterateTourOfPowerShell\n",
      "\u001b[32;1mModuleType        : \u001b[0mScript\n",
      "\u001b[32;1mPrivateData       : \u001b[0m\n",
      "\u001b[32;1mAccessMode        : \u001b[0mReadWrite\n",
      "\u001b[32;1mExportedAliases   : \u001b[0m{}\n",
      "\u001b[32;1mExportedCmdlets   : \u001b[0m{}\n",
      "\u001b[32;1mExportedFunctions : \u001b[0m{[Show-Users, Show-Users]}\n",
      "\u001b[32;1mExportedVariables : \u001b[0m{}\n",
      "\u001b[32;1mNestedModules     : \u001b[0m{}\n",
      "\n",
      "\n",
      "\u001b[32;1mName              : \u001b[0mMicrosoft.PowerShell.Management\n",
      "\u001b[32;1mPath              : \u001b[0mC:\\users\\alex\\.nuget\\packages\\microsoft.dotnet-interactive\\1.0.522904\\tools\\net\n",
      "                    8.0\\any\\runtimes\\win\\lib\\net8.0\\Modules\\Microsoft.PowerShell.Management\\Microso\n",
      "                    ft.PowerShell.Management.psd1\n",
      "\u001b[32;1mDescription       : \u001b[0m\n",
      "\u001b[32;1mGuid              : \u001b[0meefcb906-b326-4e99-9f54-8b4bb6ef3c6d\n",
      "\u001b[32;1mVersion           : \u001b[0m7.0.0.0\n",
      "\u001b[32;1mModuleBase        : \u001b[0mC:\\Users\\alex\\.nuget\\packages\\microsoft.dotnet-interactive\\1.0.522904\\tools\\net\n",
      "                    8.0\\any\\runtimes\\win\\lib\\net8.0\n",
      "\u001b[32;1mModuleType        : \u001b[0mManifest\n",
      "\u001b[32;1mPrivateData       : \u001b[0m\n",
      "\u001b[32;1mAccessMode        : \u001b[0mReadWrite\n",
      "\u001b[32;1mExportedAliases   : \u001b[0m{[gcb, gcb], [gin, gin], [gtz, gtz], [scb, scb]…}\n",
      "\u001b[32;1mExportedCmdlets   : \u001b[0m{[Add-Content, Add-Content], [Clear-Content, Clear-Content], [Clear-Item, \n",
      "                    Clear-Item], [Clear-ItemProperty, Clear-ItemProperty]…}\n",
      "\u001b[32;1mExportedFunctions : \u001b[0m{}\n",
      "\u001b[32;1mExportedVariables : \u001b[0m{}\n",
      "\u001b[32;1mNestedModules     : \u001b[0m{Microsoft.PowerShell.Commands.Management}\n",
      "\n",
      "\n",
      "\u001b[32;1mName              : \u001b[0mMicrosoft.PowerShell.Security\n",
      "\u001b[32;1mPath              : \u001b[0mC:\\users\\alex\\.nuget\\packages\\microsoft.dotnet-interactive\\1.0.522904\\tools\\net\n",
      "                    8.0\\any\\runtimes\\win\\lib\\net8.0\\Modules\\Microsoft.PowerShell.Security\\Microsoft\n",
      "                    .PowerShell.Security.psd1\n",
      "\u001b[32;1mDescription       : \u001b[0m\n",
      "\u001b[32;1mGuid              : \u001b[0ma94c8c7e-9810-47c0-b8af-65089c13a35a\n",
      "\u001b[32;1mVersion           : \u001b[0m7.0.0.0\n",
      "\u001b[32;1mModuleBase        : \u001b[0mC:\\Users\\alex\\.nuget\\packages\\microsoft.dotnet-interactive\\1.0.522904\\tools\\net\n",
      "                    8.0\\any\\runtimes\\win\\lib\\net8.0\n",
      "\u001b[32;1mModuleType        : \u001b[0mManifest\n",
      "\u001b[32;1mPrivateData       : \u001b[0m\n",
      "\u001b[32;1mAccessMode        : \u001b[0mReadWrite\n",
      "\u001b[32;1mExportedAliases   : \u001b[0m{}\n",
      "\u001b[32;1mExportedCmdlets   : \u001b[0m{[ConvertFrom-SecureString, ConvertFrom-SecureString], \n",
      "                    [ConvertTo-SecureString, ConvertTo-SecureString], [Get-Acl, Get-Acl], \n",
      "                    [Get-AuthenticodeSignature, Get-AuthenticodeSignature]…}\n",
      "\u001b[32;1mExportedFunctions : \u001b[0m{}\n",
      "\u001b[32;1mExportedVariables : \u001b[0m{}\n",
      "\u001b[32;1mNestedModules     : \u001b[0m{Microsoft.PowerShell.Security}\n",
      "\n",
      "\n",
      "\u001b[32;1mName              : \u001b[0mMicrosoft.PowerShell.Utility\n",
      "\u001b[32;1mPath              : \u001b[0mC:\\users\\alex\\.nuget\\packages\\microsoft.dotnet-interactive\\1.0.522904\\tools\\net\n",
      "                    8.0\\any\\runtimes\\win\\lib\\net8.0\\Modules\\Microsoft.PowerShell.Utility\\Microsoft.\n",
      "                    PowerShell.Utility.psd1\n",
      "\u001b[32;1mDescription       : \u001b[0m\n",
      "\u001b[32;1mGuid              : \u001b[0m1da87e53-152b-403e-98dc-74d7b4d63d59\n",
      "\u001b[32;1mVersion           : \u001b[0m7.0.0.0\n",
      "\u001b[32;1mModuleBase        : \u001b[0mC:\\Users\\alex\\.nuget\\packages\\microsoft.dotnet-interactive\\1.0.522904\\tools\\net\n",
      "                    8.0\\any\\runtimes\\win\\lib\\net8.0\n",
      "\u001b[32;1mModuleType        : \u001b[0mManifest\n",
      "\u001b[32;1mPrivateData       : \u001b[0m\n",
      "\u001b[32;1mAccessMode        : \u001b[0mReadWrite\n",
      "\u001b[32;1mExportedAliases   : \u001b[0m{[fhx, fhx]}\n",
      "\u001b[32;1mExportedCmdlets   : \u001b[0m{[Add-Member, Add-Member], [Add-Type, Add-Type], [Clear-Variable, \n",
      "                    Clear-Variable], [Compare-Object, Compare-Object]…}\n",
      "\u001b[32;1mExportedFunctions : \u001b[0m{}\n",
      "\u001b[32;1mExportedVariables : \u001b[0m{}\n",
      "\u001b[32;1mNestedModules     : \u001b[0m{Microsoft.PowerShell.Commands.Utility}\n",
      "\n",
      "\n",
      "\n",
      "\u001b[32;1mCaption                           \u001b[0m\u001b[32;1m SID\u001b[0m\n",
      "\u001b[32;1m-------                           \u001b[0m \u001b[32;1m---\u001b[0m\n",
      "DESKTOP-TM5O5E8\\Administrator      S-1-5-21-2776884319-3090142823-3378317822-500\n",
      "DESKTOP-TM5O5E8\\alex               S-1-5-21-2776884319-3090142823-3378317822-1001\n",
      "DESKTOP-TM5O5E8\\DefaultAccount     S-1-5-21-2776884319-3090142823-3378317822-503\n",
      "DESKTOP-TM5O5E8\\Guest              S-1-5-21-2776884319-3090142823-3378317822-501\n",
      "DESKTOP-TM5O5E8\\WDAGUtilityAccount S-1-5-21-2776884319-3090142823-3378317822-504\n",
      "\n"
     ]
    },
    {
     "ename": "Error",
     "evalue": "Command failed: SubmitCode: $scriptModule = @'  ...",
     "output_type": "error",
     "traceback": [
      "Command failed: SubmitCode: $scriptModule = @'  ..."
     ]
    }
   ],
   "source": [
    "$scriptModule = @' \n",
    "    function Show-Users {\n",
    "        Get-CimInstance -ClassName Win32_Account | Where-Object { $_.SIDType -eq 1 } | Select-Object Caption, SID\n",
    "    }\n",
    "    Export-ModuleMember -Function Show-Users\n",
    "'@\n",
    "$scriptModule | Out-File -FilePath .\\exampleScriptModule.psm1\n",
    "Set-ExecutionPolicy -ExecutionPolicy Bypass -Scope Process\n",
    "Get-ChildItem ./e*\n",
    "\n",
    "try {\n",
    "    Show-Users | Format-Table -Autosize\n",
    "} catch {\n",
    "    \"Module isnt loaded yet!\"\n",
    "}\n",
    "\n",
    "Import-Module ./exampleScriptModule.psm1\n",
    "Get-Module\n",
    "\n",
    "try {\n",
    "    Show-Users | Format-Table -Autosize\n",
    "} catch {\n",
    "    \"Hmmm\"\n",
    "}\n",
    "\n",
    "Remove-Module exampleScriptModule"
   ]
  },
  {
   "cell_type": "markdown",
   "metadata": {},
   "source": [
    "talk about how to import here"
   ]
  },
  {
   "cell_type": "code",
   "execution_count": null,
   "metadata": {
    "dotnet_interactive": {
     "language": "pwsh"
    },
    "polyglot_notebook": {
     "kernelName": "pwsh"
    },
    "vscode": {
     "languageId": "polyglot-notebook"
    }
   },
   "outputs": [],
   "source": [
    "# import example here"
   ]
  },
  {
   "cell_type": "markdown",
   "metadata": {},
   "source": [
    "Finally it is also possible to create a _dynamic module_ in memory, to use within the session it is declared. This achieved via the `New-Module` cmdlet:"
   ]
  },
  {
   "cell_type": "code",
   "execution_count": 10,
   "metadata": {
    "dotnet_interactive": {
     "language": "pwsh"
    },
    "polyglot_notebook": {
     "kernelName": "pwsh"
    },
    "vscode": {
     "languageId": "polyglot-notebook"
    }
   },
   "outputs": [
    {
     "name": "stdout",
     "output_type": "stream",
     "text": [
      "\n",
      "\u001b[32;1mModuleType\u001b[0m\u001b[32;1m Version   \u001b[0m \u001b[32;1;3mPreRelease\u001b[0m\u001b[32;1m Name                               \u001b[0m\u001b[32;1m ExportedCommands\u001b[0m\n",
      "\u001b[32;1m----------\u001b[0m \u001b[32;1m-------   \u001b[0m \u001b[32;1m----------\u001b[0m \u001b[32;1m----                               \u001b[0m \u001b[32;1m----------------\u001b[0m\n",
      "Script     0.0                   __DynamicModule_76412ea0-f0c6-4926… GetCodePIDs\n",
      "Manifest   7.0.0.0               Microsoft.PowerShell.Management     {Add-Content, Clear-Content, …\n",
      "Manifest   7.0.0.0               Microsoft.PowerShell.Utility        {Add-Member, Add-Type, Clear-…\n",
      "\n",
      "\n",
      "\u001b[32;1m   Id\u001b[0m\u001b[32;1m StartTime\u001b[0m\n",
      "\u001b[32;1m   --\u001b[0m \u001b[32;1m---------\u001b[0m\n",
      " 6132 6/3/2024 11:41:38 AM\n",
      " 8120 6/3/2024 11:41:41 AM\n",
      " 9084 6/3/2024 11:41:41 AM\n",
      "11100 6/3/2024 11:41:38 AM\n",
      "12360 6/3/2024 11:41:44 AM\n",
      "14080 6/3/2024 11:41:40 AM\n",
      "14804 6/3/2024 11:41:38 AM\n",
      "14864 6/3/2024 11:41:40 AM\n",
      "15364 6/3/2024 11:41:38 AM\n",
      "16300 6/3/2024 11:41:38 AM\n",
      "\n"
     ]
    }
   ],
   "source": [
    "New-Module -ScriptBlock {\n",
    "    function GetCodePIDs {\n",
    "        Get-Process -name code | Select-Object Id, StartTime\n",
    "    }\n",
    "}\n",
    "Get-Module\n",
    "GetCodePIDs | Format-Table -AutoSize"
   ]
  }
 ],
 "metadata": {
  "kernelspec": {
   "display_name": ".NET (C#)",
   "language": "C#",
   "name": ".net-csharp"
  },
  "language_info": {
   "name": "python"
  },
  "polyglot_notebook": {
   "kernelInfo": {
    "defaultKernelName": "csharp",
    "items": [
     {
      "aliases": [],
      "name": "csharp"
     }
    ]
   }
  }
 },
 "nbformat": 4,
 "nbformat_minor": 2
}
