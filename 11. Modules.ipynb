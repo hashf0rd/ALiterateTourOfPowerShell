{
 "cells": [
  {
   "cell_type": "markdown",
   "metadata": {},
   "source": [
    "# Types of Module\n",
    "PowerShell modules are collections of functionality that can be exported and imported as needed. Modules allow for code encapsulation, \n",
    "\n",
    "\n",
    "\n",
    "There are three types of PowerShell module:\n",
    "- **Script Modules:** A script module is a PowerShell script file with the extension `.psm1`. This extension enables the use of module cmdlets (such as `Import-Module` on the file. Script modules must be stored in a directory with the same name as the `.psm1` script itself.\n",
    "- **Binary Modules:** A binary module is a DLL containing PowerShell functionality written in a managed language such as C#. Even a simple .NET cmdlet assembly is treated as a binary module with no additional work, however the cmdlet assembly can be additional packaged up with other resources and a manifest file in order to distribute larger or more complex projects. Note: Binary modules will not be demonstrated in this notebook. An example of how to write a cmdlet assembly can be found in the [Binary Cmdlets](./10.%20Binary%20Cmdlets.ipynb) notebook.\n",
    "- **Manifest Modules:** A manifest module is a module that only contains a manifest file (with the `.psd1` extension as mentioned above) and doesn't contain any sort of functionality contained in an assembly or script. A manifest module as a convenient way to package up resources that other modules will use, such as nested modules, assemblies, and types.\n",
    "\n",
    "There are also _CIM_ and _Workflow_ module types, but they are not covered here.\n",
    "\n",
    "The `Get-Module` cmdlet below retrieves all the modules loaded into the current session."
   ]
  },
  {
   "cell_type": "code",
   "execution_count": 1,
   "metadata": {
    "dotnet_interactive": {
     "language": "pwsh"
    },
    "polyglot_notebook": {
     "kernelName": "pwsh"
    },
    "vscode": {
     "languageId": "polyglot-notebook"
    }
   },
   "outputs": [
    {
     "name": "stdout",
     "output_type": "stream",
     "text": [
      "\n",
      "\u001b[32;1mModuleType\u001b[0m\u001b[32;1m Version   \u001b[0m \u001b[32;1;3mPreRelease\u001b[0m\u001b[32;1m Name                               \u001b[0m\u001b[32;1m ExportedCommands\u001b[0m\n",
      "\u001b[32;1m----------\u001b[0m \u001b[32;1m-------   \u001b[0m \u001b[32;1m----------\u001b[0m \u001b[32;1m----                               \u001b[0m \u001b[32;1m----------------\u001b[0m\n",
      "Manifest   7.0.0.0               Microsoft.PowerShell.Management     {Add-Content, Clear-Content, …\n",
      "\n"
     ]
    }
   ],
   "source": [
    "Get-Module"
   ]
  },
  {
   "cell_type": "markdown",
   "metadata": {},
   "source": [
    "# Script Modules\n",
    "The code below is a trivial example of how to write, export and import a script module. The here-string stored in `$scriptModule` contains a function that will be the core of the example script module, and also contains a call to the `Export-ModuleMember` cmdlet, which to exports the function. This is saved into a `.psm1` file, which turns the code into a fully fledged scipt module."
   ]
  },
  {
   "cell_type": "code",
   "execution_count": 2,
   "metadata": {
    "dotnet_interactive": {
     "language": "pwsh"
    },
    "polyglot_notebook": {
     "kernelName": "pwsh"
    },
    "vscode": {
     "languageId": "polyglot-notebook"
    }
   },
   "outputs": [
    {
     "name": "stdout",
     "output_type": "stream",
     "text": [
      "This is the script module we are going to import:\n",
      "\n",
      "    Directory: C:\\Users\\alex\\Projects\\ALiterateTourOfPowerShell\n",
      "\n",
      "\u001b[32;1mMode   \u001b[0m\u001b[32;1m              LastWriteTime\u001b[0m\u001b[32;1m         Length\u001b[0m\u001b[32;1m Name\u001b[0m\n",
      "\u001b[32;1m----   \u001b[0m \u001b[32;1m             -------------\u001b[0m \u001b[32;1m        ------\u001b[0m \u001b[32;1m----\u001b[0m\n",
      "-a---           6/21/2024  1:14 PM            192 \u001b[33;1mexampleScriptModule.psm1\u001b[0m\n",
      "\n"
     ]
    }
   ],
   "source": [
    "$scriptModule = @' \n",
    "    function Show-Users {\n",
    "        Get-CimInstance -ClassName Win32_Account | Where-Object { $_.SIDType -eq 1 } | Select-Object Caption, SID\n",
    "    }\n",
    "    Export-ModuleMember -Function Show-Users\n",
    "'@\n",
    "$scriptModule | Out-File -FilePath .\\exampleScriptModule.psm1\n",
    "\"This is the script module we are going to import:\"\n",
    "Get-ChildItem ./e*"
   ]
  },
  {
   "cell_type": "markdown",
   "metadata": {},
   "source": [
    "The function contained in the module is now member function of that module, and when the module is imported using the `Import-Module` cmdlet, it is this member function that is exported and loaded into the session. Trying to use the function before the module is loaded fails as expected."
   ]
  },
  {
   "cell_type": "code",
   "execution_count": 3,
   "metadata": {
    "dotnet_interactive": {
     "language": "pwsh"
    },
    "polyglot_notebook": {
     "kernelName": "pwsh"
    },
    "vscode": {
     "languageId": "polyglot-notebook"
    }
   },
   "outputs": [
    {
     "name": "stdout",
     "output_type": "stream",
     "text": [
      "\n",
      "Nope, as expected we hit an exception as module isnt loaded yet!\r\n"
     ]
    },
    {
     "ename": "Error",
     "evalue": "Command failed: SubmitCode: try { ...",
     "output_type": "error",
     "traceback": [
      "Command failed: SubmitCode: try { ..."
     ]
    }
   ],
   "source": [
    "try {\n",
    "    Show-Users | Format-Table -Autosize\n",
    "} catch {\n",
    "    \"`nNope, as expected we hit an exception as module isnt loaded yet!\"\n",
    "}"
   ]
  },
  {
   "cell_type": "markdown",
   "metadata": {},
   "source": [
    "Now we will import the module using the appropriately named `Import-Module` cmdlet and check its loaded using `Get-Module` cmdlet.\n",
    "\n",
    "The exported member of the module is the command Show-Users, and now the module is loadaed this function should be callable. Running it shows the SIDs for local user accounts."
   ]
  },
  {
   "cell_type": "code",
   "execution_count": 53,
   "metadata": {
    "dotnet_interactive": {
     "language": "pwsh"
    },
    "polyglot_notebook": {
     "kernelName": "pwsh"
    },
    "vscode": {
     "languageId": "polyglot-notebook"
    }
   },
   "outputs": [
    {
     "name": "stdout",
     "output_type": "stream",
     "text": [
      "\n",
      "\u001b[32;1mModuleType\u001b[0m\u001b[32;1m Version   \u001b[0m \u001b[32;1;3mPreRelease\u001b[0m\u001b[32;1m Name                               \u001b[0m\u001b[32;1m ExportedCommands\u001b[0m\n",
      "\u001b[32;1m----------\u001b[0m \u001b[32;1m-------   \u001b[0m \u001b[32;1m----------\u001b[0m \u001b[32;1m----                               \u001b[0m \u001b[32;1m----------------\u001b[0m\n",
      "Script     0.0                   exampleScriptModule                 Show-Users\n",
      "\n",
      "\n",
      "\u001b[32;1mCaption                           \u001b[0m\u001b[32;1m SID\u001b[0m\n",
      "\u001b[32;1m-------                           \u001b[0m \u001b[32;1m---\u001b[0m\n",
      "DESKTOP-TM5O5E8\\Administrator      S-1-5-21-2776884319-3090142823-3378317822-500\n",
      "DESKTOP-TM5O5E8\\alex               S-1-5-21-2776884319-3090142823-3378317822-1001\n",
      "DESKTOP-TM5O5E8\\DefaultAccount     S-1-5-21-2776884319-3090142823-3378317822-503\n",
      "DESKTOP-TM5O5E8\\Guest              S-1-5-21-2776884319-3090142823-3378317822-501\n",
      "DESKTOP-TM5O5E8\\WDAGUtilityAccount S-1-5-21-2776884319-3090142823-3378317822-504\n",
      "\n"
     ]
    }
   ],
   "source": [
    "Import-Module ./exampleScriptModule.psm1\n",
    "Get-Module -Name exampleScriptModule\n",
    "Show-Users | Format-Table\n",
    "Remove-Module exampleScriptModule # to clean up"
   ]
  },
  {
   "cell_type": "markdown",
   "metadata": {},
   "source": [
    "# Manifests and Manifest Modules\n",
    "An important component of a PowerShell module is the _manifest_, which is file with the `.psd1` extension that is used to describe the contents of the module, its requirements and dependencies, as well as define exactly the functionality that the module exports. Manifests are an optional, but powerful feature of modules."
   ]
  },
  {
   "cell_type": "code",
   "execution_count": 43,
   "metadata": {
    "dotnet_interactive": {
     "language": "pwsh"
    },
    "polyglot_notebook": {
     "kernelName": "pwsh"
    },
    "vscode": {
     "languageId": "polyglot-notebook"
    }
   },
   "outputs": [
    {
     "name": "stdout",
     "output_type": "stream",
     "text": [
      "\n",
      "\u001b[32;1mModuleType\u001b[0m\u001b[32;1m Version   \u001b[0m \u001b[32;1;3mPreRelease\u001b[0m\u001b[32;1m Name                               \u001b[0m\u001b[32;1m ExportedCommands\u001b[0m\n",
      "\u001b[32;1m----------\u001b[0m \u001b[32;1m-------   \u001b[0m \u001b[32;1m----------\u001b[0m \u001b[32;1m----                               \u001b[0m \u001b[32;1m----------------\u001b[0m\n",
      "Script     0.0.1                 exampleManifest                     Show-Users\n",
      "\n"
     ]
    }
   ],
   "source": [
    "$manifestContents = @{\n",
    "    Path = './exampleManifest.psd1' \n",
    "    RootModule = './exampleScriptModule.psm1' \n",
    "    Author = 'hashford'\n",
    "}\n",
    "New-ModuleManifest @manifestContents\n",
    "Test-ModuleManifest -Path ./exampleManifest.psd1"
   ]
  },
  {
   "cell_type": "markdown",
   "metadata": {},
   "source": [
    "As can be seen below the Show-Users function us currently unavailable, as the script module `exampleScriptModule` was unloaded."
   ]
  },
  {
   "cell_type": "code",
   "execution_count": 55,
   "metadata": {
    "dotnet_interactive": {
     "language": "pwsh"
    },
    "polyglot_notebook": {
     "kernelName": "pwsh"
    },
    "vscode": {
     "languageId": "polyglot-notebook"
    }
   },
   "outputs": [
    {
     "name": "stdout",
     "output_type": "stream",
     "text": [
      "\u001b[31;1mShow-Users: \u001b[31;1mThe term 'Show-Users' is not recognized as a name of a cmdlet, function, script file, or executable program.\u001b[0m\n",
      "\u001b[31;1m\u001b[31;1mCheck the spelling of the name, or if a path was included, verify that the path is correct and try again.\u001b[0m\n"
     ]
    },
    {
     "ename": "Error",
     "evalue": "Command failed: SubmitCode: Show-Users",
     "output_type": "error",
     "traceback": [
      "Command failed: SubmitCode: Show-Users"
     ]
    }
   ],
   "source": [
    "Show-Users"
   ]
  },
  {
   "cell_type": "markdown",
   "metadata": {},
   "source": []
  },
  {
   "cell_type": "code",
   "execution_count": 54,
   "metadata": {
    "dotnet_interactive": {
     "language": "pwsh"
    },
    "polyglot_notebook": {
     "kernelName": "pwsh"
    },
    "vscode": {
     "languageId": "polyglot-notebook"
    }
   },
   "outputs": [
    {
     "name": "stdout",
     "output_type": "stream",
     "text": [
      "\n",
      "\u001b[32;1mName       : \u001b[0mexampleManifest\n",
      "\u001b[32;1mRootModule : \u001b[0m./exampleScriptModule.psm1\n",
      "\u001b[32;1mPath       : \u001b[0mC:\\Users\\alex\\Projects\\ALiterateTourOfPowerShell\\exampleScriptModule.psm1\n",
      "\u001b[32;1mAuthor     : \u001b[0mhashford\n",
      "\n",
      "\n",
      "\u001b[32;1mCaption                           \u001b[0m\u001b[32;1m SID\u001b[0m\n",
      "\u001b[32;1m-------                           \u001b[0m \u001b[32;1m---\u001b[0m\n",
      "DESKTOP-TM5O5E8\\Administrator      S-1-5-21-2776884319-3090142823-3378317822-500\n",
      "DESKTOP-TM5O5E8\\alex               S-1-5-21-2776884319-3090142823-3378317822-1001\n",
      "DESKTOP-TM5O5E8\\DefaultAccount     S-1-5-21-2776884319-3090142823-3378317822-503\n",
      "DESKTOP-TM5O5E8\\Guest              S-1-5-21-2776884319-3090142823-3378317822-501\n",
      "DESKTOP-TM5O5E8\\WDAGUtilityAccount S-1-5-21-2776884319-3090142823-3378317822-504\n",
      "\n"
     ]
    }
   ],
   "source": [
    "Import-Module .\\exampleManifest.psd1\n",
    "Get-Module -Name exampleManifest | Select Name, RootModule, Path, Author | Format-List\n",
    "Show-Users\n",
    "Remove-Module exampleManifest # to clean up"
   ]
  },
  {
   "cell_type": "markdown",
   "metadata": {},
   "source": [
    "# A Note on PSModulePath"
   ]
  },
  {
   "cell_type": "markdown",
   "metadata": {},
   "source": [
    "# Dynamic Modules\n",
    "Finally it is also possible to create a _dynamic module_ completely in memory, to use within the session it is declared. This achieved via the `New-Module` cmdlet:"
   ]
  },
  {
   "cell_type": "code",
   "execution_count": 51,
   "metadata": {
    "dotnet_interactive": {
     "language": "pwsh"
    },
    "polyglot_notebook": {
     "kernelName": "pwsh"
    },
    "vscode": {
     "languageId": "polyglot-notebook"
    }
   },
   "outputs": [
    {
     "name": "stdout",
     "output_type": "stream",
     "text": [
      "\n",
      "\u001b[32;1mModuleType\u001b[0m\u001b[32;1m Version   \u001b[0m \u001b[32;1;3mPreRelease\u001b[0m\u001b[32;1m Name                               \u001b[0m\u001b[32;1m ExportedCommands\u001b[0m\n",
      "\u001b[32;1m----------\u001b[0m \u001b[32;1m-------   \u001b[0m \u001b[32;1m----------\u001b[0m \u001b[32;1m----                               \u001b[0m \u001b[32;1m----------------\u001b[0m\n",
      "Script     0.0                   __DynamicModule_152d5ac5-46c5-4b9b… GetCodePIDs\n",
      "\n",
      "\n",
      "\u001b[32;1m   Id\u001b[0m\u001b[32;1m StartTime\u001b[0m\n",
      "\u001b[32;1m   --\u001b[0m \u001b[32;1m---------\u001b[0m\n",
      " 3084 6/21/2024 12:30:24 PM\n",
      " 3728 6/21/2024 12:30:27 PM\n",
      " 4404 6/21/2024 12:30:26 PM\n",
      " 6564 6/21/2024 12:30:28 PM\n",
      " 9116 6/21/2024 12:30:24 PM\n",
      " 9380 6/21/2024 12:30:28 PM\n",
      " 9528 6/21/2024 12:30:24 PM\n",
      " 9768 6/21/2024 12:30:24 PM\n",
      "11232 6/21/2024 12:48:41 PM\n",
      "11444 6/21/2024 12:30:23 PM\n",
      "\n"
     ]
    }
   ],
   "source": [
    "New-Module -ScriptBlock {\n",
    "    function GetCodePIDs {\n",
    "        Get-Process -name code | Select-Object Id, StartTime\n",
    "    }\n",
    "}\n",
    "Get-Module -Name GetCodePIDs\n",
    "GetCodePIDs | Format-Table -AutoSize"
   ]
  }
 ],
 "metadata": {
  "kernelspec": {
   "display_name": ".NET (C#)",
   "language": "C#",
   "name": ".net-csharp"
  },
  "language_info": {
   "name": "python"
  },
  "polyglot_notebook": {
   "kernelInfo": {
    "defaultKernelName": "csharp",
    "items": [
     {
      "aliases": [],
      "name": "csharp"
     }
    ]
   }
  }
 },
 "nbformat": 4,
 "nbformat_minor": 2
}
