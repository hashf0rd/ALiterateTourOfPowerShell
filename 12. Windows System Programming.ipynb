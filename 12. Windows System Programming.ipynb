{
 "cells": [
  {
   "cell_type": "markdown",
   "metadata": {},
   "source": [
    "## Windows System Programming through PowerShell\n",
    "Beyond the providers and cmdlets that PowerShell already ships with, it is possible to extend PowerShells capabilities out and interact with deeper and lower level components in the operating system. This is a deep topic and what is contained in this notebook is a very shallow treatment of what is possible.\n",
    "\n",
    "## Windows Management Instrumentation (WMI)\n",
    "WMI is the Windows specific implementation of the Common Information Model or CIM. The CIM is a standard for describing the structure of networked systems and their behaviour and is the basis for repeatable remote management of those systems. For example, a CIM class exists which describes the processes on a system, and each Windows machine will maintain a WMI repository of objects of that class; via the WMI subsystem, these objects and the processes they represent, can be interacted with.\n",
    "\n",
    "In the following example, the `Get-CimInstance` cmdlet retrieves an instance of the _Win32_logicaldisk_ class from the WMI repository. It uses the `-query` parameter and an SQL-like syntax called WQL (Wmi query language) as the parameter value, which more or less reads as \"retrieve every disc you know about\" - and this is passed to the instance of the win32 disk class. The results are passed to the `Select-Object` cmdlet with some custom expressions to make them more readable.\n",
    "<div class=\"alert alert-block alert-info\"> \n",
    "<b>Side note: Old vs New WMI</b></br> \n",
    "WMI repositories populated by WMI providers is actually the 'old' way of implementing WMI. Newer versions of WMI, now simply called MI, use a cient server model to query machines more or less live, rather than from information stored in a WMI repo."
   ]
  },
  {
   "cell_type": "code",
   "execution_count": 33,
   "metadata": {
    "dotnet_interactive": {
     "language": "pwsh"
    },
    "polyglot_notebook": {
     "kernelName": "pwsh"
    },
    "vscode": {
     "languageId": "polyglot-notebook"
    }
   },
   "outputs": [
    {
     "name": "stdout",
     "output_type": "stream",
     "text": [
      "\n",
      "\u001b[32;1mDeviceID\u001b[0m\u001b[32;1m    Size\u001b[0m\u001b[32;1m Available\u001b[0m\n",
      "\u001b[32;1m--------\u001b[0m \u001b[32;1m   ----\u001b[0m \u001b[32;1m---------\u001b[0m\n",
      "C:       237.600   152.890\n",
      "\n"
     ]
    }
   ],
   "source": [
    "Get-CimInstance -Query \"SELECT * FROM Win32_logicaldisk\" \n",
    "| Select-Object DeviceID, \n",
    "    @{name=\"Size\";expression={[math]::Round($_.Size/1GB,2)}},\n",
    "    @{name=\"Available\";expression={[math]::Round($_.FreeSpace/1GB,2)}}"
   ]
  },
  {
   "cell_type": "markdown",
   "metadata": {},
   "source": [
    "## Add-Type and Win32 Functions\n",
    "The `Add-Type` cmdlet has already been shown briefly in the [Binary Cmdlets](./10.%20Binary%20Cmdlets.ipynb) notebook. `Add-Type` allows for on-the-fly compilation of C# code, usually for the construction of custom .NET types. _Platform Invoke_ is a built in .NET mechanism for calling unmanaged code from managed code. This makes it possible to call the native Windows API functions from .NET, and therefore from PowerShell.\n",
    "\n",
    "<div class=\"alert alert-block alert-info\"> \n",
    "<b>Side note: Unmanaged vs Managed Code</b><br>\n",
    "Managed code is code that after compilation, is run from a special application known as a _managed runtime environment_. The runtime environment can then handle things like memory management and hardware io, making programs safer and more stable. Unmanaged code runs directly on the machine after being compiled into an executable and is sometimes called 'native' code for this reason.\n",
    "</div>\n",
    "\n",
    "In the PowerShell code below, the unmanaged code DLL that contains the function we are after is first loaded via the `DLLImport` attribute, then we provide a .NET definition that matches the definition of the function from DLL. This declares what is essentially a .NET 'wrapper' around the native API function `MessageBox`. The defintion is copied from [pinvoke.net](https://www.pinvoke.net/). This is a trivial example but the possibilites should be clear."
   ]
  },
  {
   "cell_type": "code",
   "execution_count": null,
   "metadata": {
    "dotnet_interactive": {
     "language": "pwsh"
    },
    "polyglot_notebook": {
     "kernelName": "pwsh"
    },
    "vscode": {
     "languageId": "polyglot-notebook"
    }
   },
   "outputs": [
    {
     "name": "stdout",
     "output_type": "stream",
     "text": [
      "1\r\n"
     ]
    }
   ],
   "source": [
    "$signature = @'\n",
    "[DllImport(\"user32.dll\", SetLastError = true, CharSet= CharSet.Auto)]\n",
    "public static extern int MessageBox(\n",
    "    IntPtr hWnd, \n",
    "    String text, \n",
    "    String caption, \n",
    "    uint type);\n",
    "'@\n",
    " \n",
    " $myType = Add-Type -MemberDefinition $signature -Name MsgBox32 -Namespace SystemProgNotebook -PassThru\n",
    " $myType::MessageBox(0, \"Flipmode is the greatest\", \"System Programming with PowerShell\",0)"
   ]
  },
  {
   "cell_type": "markdown",
   "metadata": {},
   "source": [
    "## COM Objects\n",
    "While a thorough exploration of COM is outside the scope of this notebook, it is worth highlighting how easy it is for PowerShell to utilize COM. The Component Object Model (COM) is a standard that many Windows applications adhere to; it requires a program to expose a set of functions, also called an _interface_ through which other programs can interact with it. Programs in this context are referred to as _COM Objects_.\n",
    "\n",
    "The COM bjects that are registered on a system are stored in the registry. Querying the registry reveals what programs are COM compliant and can be interacted with via PowerShell."
   ]
  },
  {
   "cell_type": "code",
   "execution_count": 46,
   "metadata": {
    "dotnet_interactive": {
     "language": "pwsh"
    },
    "polyglot_notebook": {
     "kernelName": "pwsh"
    },
    "vscode": {
     "languageId": "polyglot-notebook"
    }
   },
   "outputs": [
    {
     "name": "stdout",
     "output_type": "stream",
     "text": [
      "\n",
      "\u001b[32;1mPSChildName\u001b[0m\n",
      "\u001b[32;1m-----------\u001b[0m\n",
      "Shell.Application\n",
      "Shell.Autoplay\n",
      "Shell.AutoPlayDirect\n",
      "Shell.CDBurn\n",
      "Shell.Explorer\n",
      "Shell.FolderView\n",
      "Shell.HWEventHandlerShellExecute\n",
      "Shell.UIHelper\n",
      "\n"
     ]
    }
   ],
   "source": [
    "Get-ChildItem HKLM:\\Software\\Classes | Where-Object { $_.PSChildName -match '^Shell.[a-zA-Z]*$' } | Select-Object PSChildName"
   ]
  },
  {
   "cell_type": "markdown",
   "metadata": {},
   "source": [
    "For example the Windows desktop shell itself is COM compliant, and methods from its Shell.Application object can be invoked via PowerShell:"
   ]
  },
  {
   "cell_type": "code",
   "execution_count": 21,
   "metadata": {
    "dotnet_interactive": {
     "language": "pwsh"
    },
    "polyglot_notebook": {
     "kernelName": "pwsh"
    },
    "vscode": {
     "languageId": "polyglot-notebook"
    }
   },
   "outputs": [],
   "source": [
    "$shell = New-Object -COMObject \"Shell.Application\"\n",
    "$shell.Open(\"C:\\\")"
   ]
  }
 ],
 "metadata": {
  "kernelspec": {
   "display_name": ".NET (C#)",
   "language": "C#",
   "name": ".net-csharp"
  },
  "language_info": {
   "name": "csharp"
  },
  "polyglot_notebook": {
   "kernelInfo": {
    "defaultKernelName": "csharp",
    "items": [
     {
      "aliases": [],
      "name": "csharp"
     }
    ]
   }
  }
 },
 "nbformat": 4,
 "nbformat_minor": 2
}
