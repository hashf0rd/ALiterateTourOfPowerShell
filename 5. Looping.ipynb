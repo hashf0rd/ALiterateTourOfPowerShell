{
 "cells": [
  {
   "cell_type": "markdown",
   "metadata": {
    "vscode": {
     "languageId": "polyglot-notebook"
    }
   },
   "source": [
    "## For and Do\n",
    "PowerShell loop constructs can be both first class features of the language, as well as implemented as cmdlets.\n",
    "\n",
    "The `for` and `do` statements run the enclosed statements one or more times depending on an evaluated condition."
   ]
  },
  {
   "cell_type": "code",
   "execution_count": 1,
   "metadata": {
    "dotnet_interactive": {
     "language": "pwsh"
    },
    "polyglot_notebook": {
     "kernelName": "pwsh"
    },
    "vscode": {
     "languageId": "polyglot-notebook"
    }
   },
   "outputs": [
    {
     "name": "stdout",
     "output_type": "stream",
     "text": [
      "-eq, -ieq, -ceq: equals\n",
      "-ne, -ine, -cne: not equals\n",
      "-gt, -igt, -cgt: greater than\n",
      "-ge, -ige, -cge: greater than or equal\n",
      "-lt, -ilt, -clt: less than\n",
      "-le, -ile, -cle: less than or equal\n"
     ]
    }
   ],
   "source": [
    "# arrays in PowerShell are defined by grouping variables or other identifiers in @() \n",
    "$comparison_operators  = @(\n",
    "    '-eq, -ieq, -ceq: equals',\n",
    "    '-ne, -ine, -cne: not equals',\n",
    "    '-gt, -igt, -cgt: greater than',\n",
    "    '-ge, -ige, -cge: greater than or equal',\n",
    "    '-lt, -ilt, -clt: less than',\n",
    "    '-le, -ile, -cle: less than or equal'\n",
    ")\n",
    "\n",
    "# the for loop works pretty much the same as it does in C\n",
    "for ($i = 0; $i -lt 6; $i++) {\n",
    "    $comparison_operators[$i]\n",
    "}"
   ]
  },
  {
   "cell_type": "code",
   "execution_count": 2,
   "metadata": {
    "dotnet_interactive": {
     "language": "pwsh"
    },
    "polyglot_notebook": {
     "kernelName": "pwsh"
    },
    "vscode": {
     "languageId": "polyglot-notebook"
    }
   },
   "outputs": [
    {
     "name": "stdout",
     "output_type": "stream",
     "text": [
      "1\n",
      "2\n",
      "3\n",
      "4\n",
      "5\n",
      "6\n",
      "7\n",
      "8\n",
      "9\n",
      "10\n",
      "10\n",
      "9\n",
      "8\n",
      "7\n",
      "6\n",
      "5\n",
      "4\n",
      "3\n",
      "2\n",
      "1\n"
     ]
    }
   ],
   "source": [
    "# likewise the do statement is very similar to C\n",
    "$j = 0\n",
    "do {\n",
    "    $j++\n",
    "    $j\n",
    "} until ($j -eq 10)\n",
    "\n",
    "# the inversion of do until is do while\n",
    "$k = 10\n",
    "do {\n",
    "    $k \n",
    "    $k--\n",
    "} while ($k -gt 0)"
   ]
  },
  {
   "cell_type": "markdown",
   "metadata": {},
   "source": [
    "The `ForEach` cmdlet provides an alternative method for looping. It accepts objects via the pipeline (or via the `InputObject` parameter) and then processes each object using statements provided in the ScriptBlock passed as the `Process` parameter."
   ]
  },
  {
   "cell_type": "code",
   "execution_count": 5,
   "metadata": {
    "dotnet_interactive": {
     "language": "pwsh"
    },
    "polyglot_notebook": {
     "kernelName": "pwsh"
    },
    "vscode": {
     "languageId": "polyglot-notebook"
    }
   },
   "outputs": [
    {
     "name": "stdout",
     "output_type": "stream",
     "text": [
      "\n",
      "-InputObject <psobject>\n",
      "    \n",
      "    Required?                    false\n",
      "    Position?                    Named\n",
      "    Accept pipeline input?       true (ByValue)\n",
      "    Parameter set name           ScriptBlockSet, PropertyAndMethodSet, ParallelParameterSet\n",
      "    Aliases                      None\n",
      "    Dynamic?                     false\n",
      "    Accept wildcard characters?  false\n",
      "    \n",
      "\n",
      "-Process <scriptblock[]>\n",
      "    \n",
      "    Required?                    true\n",
      "    Position?                    0\n",
      "    Accept pipeline input?       false\n",
      "    Parameter set name           ScriptBlockSet\n",
      "    Aliases                      None\n",
      "    Dynamic?                     false\n",
      "    Accept wildcard characters?  false\n",
      "    \n",
      "\n",
      "\n"
     ]
    }
   ],
   "source": [
    "Get-Help ForEach-Object -Parameter InputObject, Process"
   ]
  },
  {
   "cell_type": "code",
   "execution_count": 6,
   "metadata": {
    "dotnet_interactive": {
     "language": "pwsh"
    },
    "polyglot_notebook": {
     "kernelName": "pwsh"
    },
    "vscode": {
     "languageId": "polyglot-notebook"
    }
   },
   "outputs": [
    {
     "name": "stdout",
     "output_type": "stream",
     "text": [
      "StringObj1 is a: System.String\n",
      "StringObj2 is a: System.String\n"
     ]
    }
   ],
   "source": [
    "'StringObj1', 'StringObj2' | \n",
    "    ForEach-Object -Process { \"$_ is a: \" + $_.GetType().FullName }\n",
    "\n",
    "# note, -Process is optional and this above can be written like this:\n",
    "# ForEach-Object { \"$_ is a: \" + $_.GetType().FullName }"
   ]
  },
  {
   "cell_type": "markdown",
   "metadata": {},
   "source": [
    "As can be observerd above, the `$_` variable represents the objects passed to the cmdlet. For each iteration of the loop, the `$_` variable points to the current object.\n",
    "\n",
    "Its also possible to use secondary scriptblocks within the scriptblock passed to ForEach"
   ]
  },
  {
   "cell_type": "code",
   "execution_count": 1,
   "metadata": {
    "dotnet_interactive": {
     "language": "pwsh"
    },
    "polyglot_notebook": {
     "kernelName": "pwsh"
    },
    "vscode": {
     "languageId": "polyglot-notebook"
    }
   },
   "outputs": [
    {
     "name": "stdout",
     "output_type": "stream",
     "text": [
      "\n",
      "    Directory: C:\\Users\\alex\n",
      "\n",
      "\u001b[32;1mMode   \u001b[0m\u001b[32;1m              LastWriteTime\u001b[0m \u001b[32;1;3m        Length\u001b[0m\u001b[32;1m Name\u001b[0m\n",
      "\u001b[32;1m----   \u001b[0m \u001b[32;1m             -------------\u001b[0m \u001b[32;1m        ------\u001b[0m \u001b[32;1m----\u001b[0m\n",
      "d-r--           3/19/2024 10:27 PM                \u001b[44;1mDesktop\u001b[0m\n",
      "d-r--           4/21/2024  3:25 PM                \u001b[44;1mDocuments\u001b[0m\n",
      "dar--           4/19/2024  4:32 PM                \u001b[44;1mDownloads\u001b[0m\n",
      "\n"
     ]
    }
   ],
   "source": [
    "Get-ChildItem $HOME | \n",
    "    ForEach-Object { if ($_.BaseName -like \"D*\" ) { $_ } }"
   ]
  },
  {
   "cell_type": "markdown",
   "metadata": {},
   "source": [
    "Futher, the `ForEach-Object` cmdlet has options for `begin`, `process` and `end` scriptblocks."
   ]
  },
  {
   "cell_type": "code",
   "execution_count": 17,
   "metadata": {
    "dotnet_interactive": {
     "language": "pwsh"
    },
    "polyglot_notebook": {
     "kernelName": "pwsh"
    },
    "vscode": {
     "languageId": "polyglot-notebook"
    }
   },
   "outputs": [
    {
     "name": "stdout",
     "output_type": "stream",
     "text": [
      "=====\n",
      "  a\n",
      "  b\n",
      "  c\n",
      "=====\n"
     ]
    }
   ],
   "source": [
    "'A', 'B', 'C' | \n",
    "    foreach -begin { \"=====\" } -process { \"  \" + $_.ToLower() } -end { \"=====\" }"
   ]
  },
  {
   "cell_type": "markdown",
   "metadata": {},
   "source": [
    "It is actually possible to pass multiple scriptblocks to `ForEach` which will be implicitly run sequentially."
   ]
  },
  {
   "cell_type": "code",
   "execution_count": 2,
   "metadata": {
    "dotnet_interactive": {
     "language": "pwsh"
    },
    "polyglot_notebook": {
     "kernelName": "pwsh"
    },
    "vscode": {
     "languageId": "polyglot-notebook"
    }
   },
   "outputs": [
    {
     "name": "stdout",
     "output_type": "stream",
     "text": [
      "begin\n",
      "process1\n",
      "process2\n",
      "process3\n",
      "end\n"
     ]
    }
   ],
   "source": [
    "'runOnce' | ForEach-Object { 'begin' } { 'process1' } { 'process2' } { 'process3' } { 'end' }"
   ]
  }
 ],
 "metadata": {
  "kernelspec": {
   "display_name": ".NET (C#)",
   "language": "C#",
   "name": ".net-csharp"
  },
  "language_info": {
   "name": "python"
  },
  "polyglot_notebook": {
   "kernelInfo": {
    "defaultKernelName": "csharp",
    "items": [
     {
      "aliases": [],
      "name": "csharp"
     }
    ]
   }
  }
 },
 "nbformat": 4,
 "nbformat_minor": 2
}
