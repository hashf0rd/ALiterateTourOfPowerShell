{
 "cells": [
  {
   "cell_type": "markdown",
   "metadata": {},
   "source": [
    "## Objects\n",
    "Objects are abstract representations of everything on an operating system. An object can be as simple as an array of numbers or as complicated as the thread of a process. The best way to think about an object is that is the data structure that contains all the information regarding a particular 'thing'. An array object would contain information about the numbers it held, how many number it held, what order they were in etc. A thread object would contain far more information: the thread count, the owning process, the memory in use, the executable image in memory, the files it had access to, its permissions on the system etc. On Windows, practically everything is an object.\n",
    "\n",
    "Objects are made up of three components: the objects _type_, its _methods_ and its _properties_."
   ]
  },
  {
   "cell_type": "markdown",
   "metadata": {},
   "source": [
    "## Types\n",
    "PowerShell is built with .NET, meaning all its objects are ultimately built using .NET types. Types describe what features an object possess and the kinds of actions that it can take or be taken on it. In .NET all types are ultimately derived from the System.Object base type. "
   ]
  },
  {
   "cell_type": "code",
   "execution_count": 1,
   "metadata": {
    "dotnet_interactive": {
     "language": "pwsh"
    },
    "polyglot_notebook": {
     "kernelName": "pwsh"
    },
    "vscode": {
     "languageId": "polyglot-notebook"
    }
   },
   "outputs": [
    {
     "name": "stdout",
     "output_type": "stream",
     "text": [
      "Cmdlet Output: 05/01/2024 17:54:26\n",
      "Type: System.DateTime\n",
      "Base Type: System.ValueType\n"
     ]
    }
   ],
   "source": [
    "# note: parentheses in PS are referred to as the 'grouping' operator, and are used around this cmdlet to capture the cmdlets output, so that output can \n",
    "# then be used in the below expression alongside the string \"Cmdlet Output\"\n",
    "\"Cmdlet Output: \" + (Get-Date);\n",
    "\"Type: \" + (Get-Date).GetType().FullName;\n",
    "\"Base Type: \" + (Get-Date).GetType().BaseType;"
   ]
  },
  {
   "cell_type": "markdown",
   "metadata": {},
   "source": [
    "Objects can be _cast_ between different types using the square brackets and the type to cast to."
   ]
  },
  {
   "cell_type": "code",
   "execution_count": 2,
   "metadata": {
    "dotnet_interactive": {
     "language": "pwsh"
    },
    "polyglot_notebook": {
     "kernelName": "pwsh"
    },
    "vscode": {
     "languageId": "polyglot-notebook"
    }
   },
   "outputs": [
    {
     "name": "stdout",
     "output_type": "stream",
     "text": [
      "Type: System.DateTime\n",
      "New Type: System.String\n"
     ]
    }
   ],
   "source": [
    "$date = Get-Date\n",
    "\"Type: \" + $date.GetType().FullName;\n",
    "\"New Type: \" + ([String]$date).GetType().FullName;"
   ]
  },
  {
   "cell_type": "markdown",
   "metadata": {},
   "source": [
    "Variables can be constrained to a certain type using the same casting syntax."
   ]
  },
  {
   "cell_type": "code",
   "execution_count": 3,
   "metadata": {
    "dotnet_interactive": {
     "language": "pwsh"
    },
    "polyglot_notebook": {
     "kernelName": "pwsh"
    },
    "vscode": {
     "languageId": "polyglot-notebook"
    }
   },
   "outputs": [
    {
     "name": "stdout",
     "output_type": "stream",
     "text": [
      "\u001b[31;1mMetadataError: \u001b[31;1mCannot convert value \"Hello\" to type \"System.DateTime\". Error: \"The string 'Hello' was not recognized as a valid DateTime. There is an unknown word starting at index '0'.\"\u001b[0m\n",
      "j contains: 02/03/2022 00:00:00\n"
     ]
    },
    {
     "ename": "Error",
     "evalue": "Command failed: SubmitCode: [System.DateTime]$i = \"Hello\" ...",
     "output_type": "error",
     "traceback": [
      "Command failed: SubmitCode: [System.DateTime]$i = \"Hello\" ..."
     ]
    }
   ],
   "source": [
    "[System.DateTime]$i = \"Hello\"\n",
    "[System.DateTime]$j = \"02/03/22\"\n",
    "Write-Output \"j contains: $j\""
   ]
  },
  {
   "cell_type": "code",
   "execution_count": null,
   "metadata": {
    "dotnet_interactive": {
     "language": "pwsh"
    },
    "polyglot_notebook": {
     "kernelName": "pwsh"
    },
    "vscode": {
     "languageId": "polyglot-notebook"
    }
   },
   "outputs": [],
   "source": []
  },
  {
   "cell_type": "markdown",
   "metadata": {},
   "source": [
    "PowerShell objects can be created for newly any .NET type. Creating an object of a specific type usually happens through casting as shown above, and when this happens PowerShell will automatically select the most appropriate _constructor_ for that type. The constructor can also be called explicitly however, using the `new` static method that is common to all .NET types."
   ]
  },
  {
   "cell_type": "code",
   "execution_count": 1,
   "metadata": {
    "dotnet_interactive": {
     "language": "pwsh"
    },
    "polyglot_notebook": {
     "kernelName": "pwsh"
    },
    "vscode": {
     "languageId": "polyglot-notebook"
    }
   },
   "outputs": [
    {
     "name": "stdout",
     "output_type": "stream",
     "text": [
      "\n",
      "\u001b[32;1mIsPublic\u001b[0m \u001b[32;1;3mIsSerial\u001b[0m\u001b[32;1m Name                                    \u001b[0m\u001b[32;1m BaseType\u001b[0m\n",
      "\u001b[32;1m--------\u001b[0m \u001b[32;1m--------\u001b[0m \u001b[32;1m----                                    \u001b[0m \u001b[32;1m--------\u001b[0m\n",
      "True     True     String                                   System.Object\n",
      "True     True     Uri                                      System.Object\n",
      "\n"
     ]
    }
   ],
   "source": [
    "$google = \"http://www.google.com\"\n",
    "$google.GetType()\n",
    "$google = [System.uri]::new(\"http://www.google.com\")\n",
    "$google.GetType()"
   ]
  },
  {
   "cell_type": "markdown",
   "metadata": {},
   "source": [
    "## Methods\n",
    "Just like in OOP languages like C++, Java or C#, PowerShell objects have methods which describe the kinds of operations that can be performed on the object."
   ]
  },
  {
   "cell_type": "code",
   "execution_count": 4,
   "metadata": {
    "dotnet_interactive": {
     "language": "pwsh"
    },
    "polyglot_notebook": {
     "kernelName": "pwsh"
    },
    "vscode": {
     "languageId": "polyglot-notebook"
    }
   },
   "outputs": [
    {
     "name": "stdout",
     "output_type": "stream",
     "text": [
      "\n",
      "   TypeName: System.String\n",
      "\n",
      "\u001b[32;1mName                \u001b[0m\u001b[32;1m MemberType\u001b[0m\u001b[32;1m Definition\u001b[0m\n",
      "\u001b[32;1m----                \u001b[0m \u001b[32;1m----------\u001b[0m \u001b[32;1m----------\u001b[0m\n",
      "Clone                Method     System.Object Clone(), System.Object ICloneable.Clone()\n",
      "CompareTo            Method     int CompareTo(System.Object value), int CompareTo(string strB), in…\n",
      "Contains             Method     bool Contains(string value), bool Contains(string value, System.St…\n",
      "CopyTo               Method     void CopyTo(int sourceIndex, char[] destination, int destinationIn…\n",
      "EndsWith             Method     bool EndsWith(string value), bool EndsWith(string value, System.St…\n",
      "EnumerateRunes       Method     System.Text.StringRuneEnumerator EnumerateRunes()\n",
      "Equals               Method     bool Equals(System.Object obj), bool Equals(string value), bool Eq…\n",
      "GetEnumerator        Method     System.CharEnumerator GetEnumerator(), System.Collections.IEnumera…\n",
      "GetHashCode          Method     int GetHashCode(), int GetHashCode(System.StringComparison compari…\n",
      "GetPinnableReference Method     System.Char&, System.Private.CoreLib, Version=8.0.0.0, Culture=neu…\n",
      "GetType              Method     type GetType()\n",
      "GetTypeCode          Method     System.TypeCode GetTypeCode(), System.TypeCode IConvertible.GetTyp…\n",
      "IndexOf              Method     int IndexOf(char value), int IndexOf(char value, int startIndex), …\n",
      "IndexOfAny           Method     int IndexOfAny(char[] anyOf), int IndexOfAny(char[] anyOf, int sta…\n",
      "Insert               Method     string Insert(int startIndex, string value)\n",
      "IsNormalized         Method     bool IsNormalized(), bool IsNormalized(System.Text.NormalizationFo…\n",
      "LastIndexOf          Method     int LastIndexOf(char value), int LastIndexOf(char value, int start…\n",
      "LastIndexOfAny       Method     int LastIndexOfAny(char[] anyOf), int LastIndexOfAny(char[] anyOf,…\n",
      "Normalize            Method     string Normalize(), string Normalize(System.Text.NormalizationForm…\n",
      "PadLeft              Method     string PadLeft(int totalWidth), string PadLeft(int totalWidth, cha…\n",
      "PadRight             Method     string PadRight(int totalWidth), string PadRight(int totalWidth, c…\n",
      "Remove               Method     string Remove(int startIndex, int count), string Remove(int startI…\n",
      "Replace              Method     string Replace(string oldValue, string newValue, bool ignoreCase, …\n",
      "ReplaceLineEndings   Method     string ReplaceLineEndings(), string ReplaceLineEndings(string repl…\n",
      "Split                Method     string[] Split(char separator, System.StringSplitOptions options =…\n",
      "StartsWith           Method     bool StartsWith(string value), bool StartsWith(string value, Syste…\n",
      "Substring            Method     string Substring(int startIndex), string Substring(int startIndex,…\n",
      "ToBoolean            Method     bool IConvertible.ToBoolean(System.IFormatProvider provider)\n",
      "ToByte               Method     byte IConvertible.ToByte(System.IFormatProvider provider)\n",
      "ToChar               Method     char IConvertible.ToChar(System.IFormatProvider provider)\n",
      "ToCharArray          Method     char[] ToCharArray(), char[] ToCharArray(int startIndex, int lengt…\n",
      "ToDateTime           Method     datetime IConvertible.ToDateTime(System.IFormatProvider provider)\n",
      "ToDecimal            Method     decimal IConvertible.ToDecimal(System.IFormatProvider provider)\n",
      "ToDouble             Method     double IConvertible.ToDouble(System.IFormatProvider provider)\n",
      "ToInt16              Method     short IConvertible.ToInt16(System.IFormatProvider provider)\n",
      "ToInt32              Method     int IConvertible.ToInt32(System.IFormatProvider provider)\n",
      "ToInt64              Method     long IConvertible.ToInt64(System.IFormatProvider provider)\n",
      "ToLower              Method     string ToLower(), string ToLower(cultureinfo culture)\n",
      "ToLowerInvariant     Method     string ToLowerInvariant()\n",
      "ToSByte              Method     sbyte IConvertible.ToSByte(System.IFormatProvider provider)\n",
      "ToSingle             Method     float IConvertible.ToSingle(System.IFormatProvider provider)\n",
      "ToString             Method     string ToString(), string ToString(System.IFormatProvider provider…\n",
      "ToType               Method     System.Object IConvertible.ToType(type conversionType, System.IFor…\n",
      "ToUInt16             Method     ushort IConvertible.ToUInt16(System.IFormatProvider provider)\n",
      "ToUInt32             Method     uint IConvertible.ToUInt32(System.IFormatProvider provider)\n",
      "ToUInt64             Method     ulong IConvertible.ToUInt64(System.IFormatProvider provider)\n",
      "ToUpper              Method     string ToUpper(), string ToUpper(cultureinfo culture)\n",
      "ToUpperInvariant     Method     string ToUpperInvariant()\n",
      "Trim                 Method     string Trim(), string Trim(char trimChar), string Trim(Params char…\n",
      "TrimEnd              Method     string TrimEnd(), string TrimEnd(char trimChar), string TrimEnd(Pa…\n",
      "TrimStart            Method     string TrimStart(), string TrimStart(char trimChar), string TrimSt…\n",
      "TryCopyTo            Method     bool TryCopyTo(System.Span[char] destination)\n",
      "\n"
     ]
    }
   ],
   "source": [
    "$strObj = \"This is a string object\" \n",
    "$strObj | Get-Member -MemberType Methods"
   ]
  },
  {
   "cell_type": "markdown",
   "metadata": {},
   "source": [
    "Methods are accessed with dot . notation, and the output of a method is itself an object with its own set of methods."
   ]
  },
  {
   "cell_type": "code",
   "execution_count": 10,
   "metadata": {
    "dotnet_interactive": {
     "language": "pwsh"
    },
    "polyglot_notebook": {
     "kernelName": "pwsh"
    },
    "vscode": {
     "languageId": "polyglot-notebook"
    }
   },
   "outputs": [
    {
     "name": "stdout",
     "output_type": "stream",
     "text": [
      "Output of .EndsWith() method: True\n",
      "Type of output of .EndsWith() method: System.Boolean\n"
     ]
    }
   ],
   "source": [
    "\"Output of .EndsWith() method: \" + $strObj.EndsWith('object')\n",
    "\"Type of output of .EndsWith() method: \" + ($strObj.EndsWith('object').GetType().FullName)"
   ]
  },
  {
   "cell_type": "markdown",
   "metadata": {},
   "source": [
    "As can be seen above, methods can be called on objects that are generated by commands, either by storing the object in a variable or using the ( ) grouping operator."
   ]
  },
  {
   "cell_type": "code",
   "execution_count": 3,
   "metadata": {
    "dotnet_interactive": {
     "language": "pwsh"
    },
    "polyglot_notebook": {
     "kernelName": "pwsh"
    },
    "vscode": {
     "languageId": "polyglot-notebook"
    }
   },
   "outputs": [
    {
     "name": "stdout",
     "output_type": "stream",
     "text": [
      "Method called on object stored in a variable: Monday, March 11, 2024 11:00:35 AM\n",
      "Method called on object emitted from Get-Date command: Monday, March 11, 2024 11:00:36 AM\n"
     ]
    }
   ],
   "source": [
    "$date = Get-Date;\n",
    "\"Method called on object stored in a variable: \" + $date.DateTime;\n",
    "\"Method called on object emitted from Get-Date command: \" + (Get-Date).DateTime;"
   ]
  },
  {
   "cell_type": "markdown",
   "metadata": {},
   "source": [
    "## Properties\n",
    "While methods are the actions that can performed on an object and the data the object represents, properties describe the data itself."
   ]
  },
  {
   "cell_type": "code",
   "execution_count": 6,
   "metadata": {
    "dotnet_interactive": {
     "language": "pwsh"
    },
    "polyglot_notebook": {
     "kernelName": "pwsh"
    },
    "vscode": {
     "languageId": "polyglot-notebook"
    }
   },
   "outputs": [
    {
     "name": "stdout",
     "output_type": "stream",
     "text": [
      "\n",
      "   TypeName: System.String\n",
      "\n",
      "\u001b[32;1mName  \u001b[0m\u001b[32;1m MemberType\u001b[0m\u001b[32;1m Definition\u001b[0m\n",
      "\u001b[32;1m----  \u001b[0m \u001b[32;1m----------\u001b[0m \u001b[32;1m----------\u001b[0m\n",
      "Length Property   int Length {get;}\n",
      "strObj is 23 characters long\n",
      "\n"
     ]
    }
   ],
   "source": [
    "$strObj | Get-Member -MemberType Property\n",
    "\"strObj is \" + $strObj.Length + \" characters long\""
   ]
  },
  {
   "cell_type": "markdown",
   "metadata": {},
   "source": [
    "## Custom Objects\n",
    "It is possible to create objects of a custom type by using a _hashtable_ data structure and casting it to the type **\\[PSCustomObject\\]**"
   ]
  },
  {
   "cell_type": "code",
   "execution_count": 7,
   "metadata": {
    "dotnet_interactive": {
     "language": "pwsh"
    },
    "polyglot_notebook": {
     "kernelName": "pwsh"
    },
    "vscode": {
     "languageId": "polyglot-notebook"
    }
   },
   "outputs": [
    {
     "name": "stdout",
     "output_type": "stream",
     "text": [
      "\n",
      "   TypeName: System.Management.Automation.PSCustomObject\n",
      "\n",
      "\u001b[32;1mName\u001b[0m\u001b[32;1m MemberType  \u001b[0m\u001b[32;1m Definition\u001b[0m\n",
      "\u001b[32;1m----\u001b[0m \u001b[32;1m----------  \u001b[0m \u001b[32;1m----------\u001b[0m\n",
      "Bar  NoteProperty string Bar=YELLOWSUBMARINE\n",
      "\n"
     ]
    }
   ],
   "source": [
    "# the hash table syntax of []@ is explained in later notebooks!\n",
    "$Foo = [pscustomobject]@{ Bar=\"YELLOWSUBMARINE\" };\n",
    "$Foo | Get-Member -MemberType Properties"
   ]
  },
  {
   "cell_type": "markdown",
   "metadata": {},
   "source": [
    "## Selecting Parts of Objects\n",
    "The `Select-Object` cmdlet creates a new custom object from the selected properties of the object that it receives via the pipeline. Technically it return the input object but with only the selected set of properties."
   ]
  },
  {
   "cell_type": "code",
   "execution_count": 12,
   "metadata": {
    "dotnet_interactive": {
     "language": "pwsh"
    },
    "polyglot_notebook": {
     "kernelName": "pwsh"
    },
    "vscode": {
     "languageId": "polyglot-notebook"
    }
   },
   "outputs": [
    {
     "name": "stdout",
     "output_type": "stream",
     "text": [
      "\n",
      "\u001b[32;1mPath\u001b[0m\n",
      "\u001b[32;1m----\u001b[0m\n",
      "C:\\Users\\alex\\AppData\\Local\\Programs\\Microsoft VS Code\\Code.exe\n",
      "\n"
     ]
    }
   ],
   "source": [
    "Get-Process code | Select-Object -First 1 -Property Path"
   ]
  },
  {
   "cell_type": "markdown",
   "metadata": {},
   "source": [
    "Examining the object shows the it contains only the properties selected from the previous object, and the type is a custom type based on the type of the input object."
   ]
  },
  {
   "cell_type": "code",
   "execution_count": 9,
   "metadata": {
    "dotnet_interactive": {
     "language": "pwsh"
    },
    "polyglot_notebook": {
     "kernelName": "pwsh"
    },
    "vscode": {
     "languageId": "polyglot-notebook"
    }
   },
   "outputs": [
    {
     "name": "stdout",
     "output_type": "stream",
     "text": [
      "===> New custom object with only select properties <===\n",
      "\n",
      "   TypeName: Selected.System.Diagnostics.Process\n",
      "\n",
      "\u001b[32;1mName       \u001b[0m\u001b[32;1m MemberType  \u001b[0m\u001b[32;1m Definition\u001b[0m\n",
      "\u001b[32;1m----       \u001b[0m \u001b[32;1m----------  \u001b[0m \u001b[32;1m----------\u001b[0m\n",
      "Equals      Method       bool Equals(System.Object obj)\n",
      "GetHashCode Method       int GetHashCode()\n",
      "GetType     Method       type GetType()\n",
      "ToString    Method       string ToString()\n",
      "Path        NoteProperty System.String Path=C:\\Users\\alex\\AppData\\Local\\Programs\\Microsoft VS Code…\n",
      "\n",
      "===> Selected.System.Diagnostics.Process is itself a kind of custom powershell object <===\n",
      "System.Management.Automation.PSCustomObject\n",
      "\n",
      "===> Put another way, Selected.System.Diagnostics.Process is constructed using the PSCustomObject type <===\n",
      "Selected.System.Diagnostics.Process which inherits from...\n",
      "System.Management.Automation.PSCustomObject which inherits from...\n",
      "System.Object which inherits from...\n",
      "\n"
     ]
    }
   ],
   "source": [
    "\"===> New custom object with only select properties <===\" \n",
    "(Get-Process code | Select-Object -First 1 -Property Path) | Get-Member\n",
    "\n",
    "\"`n===> Selected.System.Diagnostics.Process is itself a kind of custom powershell object <===\"\n",
    "(Get-Process code | Select-Object -First 1 -Property Path).GetType().FullName\n",
    "\n",
    "\"`n===> Put another way, Selected.System.Diagnostics.Process is constructed using the PSCustomObject type <===\"\n",
    "(Get-Process code | Select-Object -First 1 -Property Path).pstypenames.ForEach{ return $_ + \" which inherits from...\"} \n"
   ]
  }
 ],
 "metadata": {
  "kernelspec": {
   "display_name": ".NET (C#)",
   "language": "C#",
   "name": ".net-csharp"
  },
  "language_info": {
   "name": "python"
  },
  "polyglot_notebook": {
   "kernelInfo": {
    "defaultKernelName": "csharp",
    "items": [
     {
      "aliases": [],
      "name": "csharp"
     }
    ]
   }
  }
 },
 "nbformat": 4,
 "nbformat_minor": 2
}
